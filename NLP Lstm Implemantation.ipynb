{
 "cells": [
  {
   "cell_type": "markdown",
   "metadata": {},
   "source": [
    "#### Fatih Enes Usta 319552979 Classification of Political Writings by using LSTM"
   ]
  },
  {
   "cell_type": "code",
   "execution_count": 1,
   "metadata": {
    "colab": {
     "base_uri": "https://localhost:8080/",
     "height": 641
    },
    "colab_type": "code",
    "id": "2UMt4uOudZAu",
    "outputId": "09739e66-c7a9-4e67-c61d-3e5f6c39a16e"
   },
   "outputs": [
    {
     "name": "stdout",
     "output_type": "stream",
     "text": [
      "Collecting transformers\n",
      "\u001b[?25l  Downloading https://files.pythonhosted.org/packages/48/35/ad2c5b1b8f99feaaf9d7cdadaeef261f098c6e1a6a2935d4d07662a6b780/transformers-2.11.0-py3-none-any.whl (674kB)\n",
      "\u001b[K     |████████████████████████████████| 675kB 4.3MB/s \n",
      "\u001b[?25hRequirement already satisfied: dataclasses; python_version < \"3.7\" in /usr/local/lib/python3.6/dist-packages (from transformers) (0.7)\n",
      "Collecting sacremoses\n",
      "\u001b[?25l  Downloading https://files.pythonhosted.org/packages/7d/34/09d19aff26edcc8eb2a01bed8e98f13a1537005d31e95233fd48216eed10/sacremoses-0.0.43.tar.gz (883kB)\n",
      "\u001b[K     |████████████████████████████████| 890kB 10.5MB/s \n",
      "\u001b[?25hCollecting tokenizers==0.7.0\n",
      "\u001b[?25l  Downloading https://files.pythonhosted.org/packages/14/e5/a26eb4716523808bb0a799fcfdceb6ebf77a18169d9591b2f46a9adb87d9/tokenizers-0.7.0-cp36-cp36m-manylinux1_x86_64.whl (3.8MB)\n",
      "\u001b[K     |████████████████████████████████| 3.8MB 19.5MB/s \n",
      "\u001b[?25hCollecting sentencepiece\n",
      "\u001b[?25l  Downloading https://files.pythonhosted.org/packages/d4/a4/d0a884c4300004a78cca907a6ff9a5e9fe4f090f5d95ab341c53d28cbc58/sentencepiece-0.1.91-cp36-cp36m-manylinux1_x86_64.whl (1.1MB)\n",
      "\u001b[K     |████████████████████████████████| 1.1MB 44.0MB/s \n",
      "\u001b[?25hRequirement already satisfied: numpy in /usr/local/lib/python3.6/dist-packages (from transformers) (1.18.4)\n",
      "Requirement already satisfied: requests in /usr/local/lib/python3.6/dist-packages (from transformers) (2.23.0)\n",
      "Requirement already satisfied: tqdm>=4.27 in /usr/local/lib/python3.6/dist-packages (from transformers) (4.41.1)\n",
      "Requirement already satisfied: regex!=2019.12.17 in /usr/local/lib/python3.6/dist-packages (from transformers) (2019.12.20)\n",
      "Requirement already satisfied: filelock in /usr/local/lib/python3.6/dist-packages (from transformers) (3.0.12)\n",
      "Requirement already satisfied: packaging in /usr/local/lib/python3.6/dist-packages (from transformers) (20.4)\n",
      "Requirement already satisfied: six in /usr/local/lib/python3.6/dist-packages (from sacremoses->transformers) (1.12.0)\n",
      "Requirement already satisfied: click in /usr/local/lib/python3.6/dist-packages (from sacremoses->transformers) (7.1.2)\n",
      "Requirement already satisfied: joblib in /usr/local/lib/python3.6/dist-packages (from sacremoses->transformers) (0.15.1)\n",
      "Requirement already satisfied: urllib3!=1.25.0,!=1.25.1,<1.26,>=1.21.1 in /usr/local/lib/python3.6/dist-packages (from requests->transformers) (1.24.3)\n",
      "Requirement already satisfied: idna<3,>=2.5 in /usr/local/lib/python3.6/dist-packages (from requests->transformers) (2.9)\n",
      "Requirement already satisfied: certifi>=2017.4.17 in /usr/local/lib/python3.6/dist-packages (from requests->transformers) (2020.4.5.1)\n",
      "Requirement already satisfied: chardet<4,>=3.0.2 in /usr/local/lib/python3.6/dist-packages (from requests->transformers) (3.0.4)\n",
      "Requirement already satisfied: pyparsing>=2.0.2 in /usr/local/lib/python3.6/dist-packages (from packaging->transformers) (2.4.7)\n",
      "Building wheels for collected packages: sacremoses\n",
      "  Building wheel for sacremoses (setup.py) ... \u001b[?25l\u001b[?25hdone\n",
      "  Created wheel for sacremoses: filename=sacremoses-0.0.43-cp36-none-any.whl size=893260 sha256=60a743ab6a457a45411aeffd02e9e5903ab57c18b984a29a5a136c42b54e0bde\n",
      "  Stored in directory: /root/.cache/pip/wheels/29/3c/fd/7ce5c3f0666dab31a50123635e6fb5e19ceb42ce38d4e58f45\n",
      "Successfully built sacremoses\n",
      "Installing collected packages: sacremoses, tokenizers, sentencepiece, transformers\n",
      "Successfully installed sacremoses-0.0.43 sentencepiece-0.1.91 tokenizers-0.7.0 transformers-2.11.0\n"
     ]
    }
   ],
   "source": [
    "pip install transformers"
   ]
  },
  {
   "cell_type": "code",
   "execution_count": 2,
   "metadata": {
    "colab": {
     "base_uri": "https://localhost:8080/",
     "height": 34
    },
    "colab_type": "code",
    "id": "20XQQ3BG9KbH",
    "outputId": "60313a33-ed35-4b4c-ca7c-e789e12e7b97"
   },
   "outputs": [
    {
     "name": "stderr",
     "output_type": "stream",
     "text": [
      "Using TensorFlow backend.\n"
     ]
    }
   ],
   "source": [
    "import pandas as pd\n",
    "from nltk.tokenize import sent_tokenize, word_tokenize\n",
    "from nltk.tokenize import RegexpTokenizer\n",
    "from nltk.tokenize import word_tokenize\n",
    "import string\n",
    "import nltk\n",
    "import numpy as np\n",
    "import torch\n",
    "import re\n",
    "from bs4 import BeautifulSoup\n",
    "import requests\n",
    "from sklearn import metrics\n",
    "import transformers\n",
    "from transformers import AutoModel, AutoTokenizer, BertTokenizer\n",
    "import matplotlib.pyplot as plt\n",
    "from sklearn.metrics import confusion_matrix\n",
    "from sklearn.metrics import f1_score\n",
    "from keras.preprocessing.text import Tokenizer\n",
    "from keras.preprocessing.sequence import pad_sequences\n",
    "from keras.layers import Embedding\n",
    "from keras.layers import SpatialDropout1D\n",
    "from keras.models import Sequential\n",
    "from keras.layers.recurrent import LSTM\n",
    "from keras.layers import Dense, Activation\n",
    "from keras.callbacks import EarlyStopping\n",
    "from keras.optimizers import SGD\n",
    "import numpy as np\n",
    "from sklearn.model_selection import train_test_split\n",
    "from sklearn.metrics import accuracy_score\n",
    "import statistics \n",
    "from keras.utils import to_categorical"
   ]
  },
  {
   "cell_type": "code",
   "execution_count": 0,
   "metadata": {
    "colab": {},
    "colab_type": "code",
    "id": "4aII8Ay68AVs"
   },
   "outputs": [],
   "source": [
    "from pydrive.auth import GoogleAuth\n",
    "from pydrive.drive import GoogleDrive\n",
    "from google.colab import auth\n",
    "from oauth2client.client import GoogleCredentials\n",
    "auth.authenticate_user()\n",
    "gauth = GoogleAuth()\n",
    "gauth.credentials = GoogleCredentials.get_application_default()\n",
    "drive = GoogleDrive(gauth)\n",
    "link = 'https://drive.google.com/open?id=1dbVPCgtw5VUOck-ZwYwsto3ZVqOd6wNB'\n",
    "fluff, id = link.split('=')\n",
    "import pandas as pd\n",
    "downloaded = drive.CreateFile({'id':id}) \n",
    "downloaded.GetContentFile('03_06_nlp_data_latest.xlsx')  "
   ]
  },
  {
   "cell_type": "code",
   "execution_count": 0,
   "metadata": {
    "colab": {},
    "colab_type": "code",
    "id": "qwV9bKJ2dZAx"
   },
   "outputs": [],
   "source": [
    "mainData = pd.read_excel(\"03_06_nlp_data_latest.xlsx\")\n",
    "labels = mainData[['Labels']]"
   ]
  },
  {
   "cell_type": "code",
   "execution_count": 5,
   "metadata": {
    "colab": {
     "base_uri": "https://localhost:8080/",
     "height": 70
    },
    "colab_type": "code",
    "id": "kuaJFFUJdZA0",
    "outputId": "fcba0593-e992-4ea6-dc22-bfe39ebf1d92"
   },
   "outputs": [
    {
     "data": {
      "text/plain": [
       "0    2523\n",
       "1    2503\n",
       "Name: Labels, dtype: int64"
      ]
     },
     "execution_count": 5,
     "metadata": {
      "tags": []
     },
     "output_type": "execute_result"
    }
   ],
   "source": [
    "mainData.Labels.value_counts()"
   ]
  },
  {
   "cell_type": "code",
   "execution_count": 75,
   "metadata": {
    "colab": {
     "base_uri": "https://localhost:8080/",
     "height": 347
    },
    "colab_type": "code",
    "id": "0P9BiQTcwlOX",
    "outputId": "b33dad19-1c37-406f-a946-0e6b4f82b7e9"
   },
   "outputs": [
    {
     "data": {
      "text/html": [
       "<div>\n",
       "<style scoped>\n",
       "    .dataframe tbody tr th:only-of-type {\n",
       "        vertical-align: middle;\n",
       "    }\n",
       "\n",
       "    .dataframe tbody tr th {\n",
       "        vertical-align: top;\n",
       "    }\n",
       "\n",
       "    .dataframe thead th {\n",
       "        text-align: right;\n",
       "    }\n",
       "</style>\n",
       "<table border=\"1\" class=\"dataframe\">\n",
       "  <thead>\n",
       "    <tr style=\"text-align: right;\">\n",
       "      <th></th>\n",
       "      <th>Unnamed: 0</th>\n",
       "      <th>index</th>\n",
       "      <th>Articles</th>\n",
       "      <th>Labels</th>\n",
       "      <th>Cleaned_Articles</th>\n",
       "      <th>Bert_Stemmed_Tokenized</th>\n",
       "    </tr>\n",
       "  </thead>\n",
       "  <tbody>\n",
       "    <tr>\n",
       "      <th>10</th>\n",
       "      <td>10</td>\n",
       "      <td>4598</td>\n",
       "      <td>&lt;div class=\"newsBox\"&gt;\\n&lt;p&gt;FETÖ bu milletin ver...</td>\n",
       "      <td>0</td>\n",
       "      <td>fetö bu milletin vergileriyle alınan silahlarl...</td>\n",
       "      <td>[feto, bu, milletin, vergileri, alınan, silahl...</td>\n",
       "    </tr>\n",
       "    <tr>\n",
       "      <th>11</th>\n",
       "      <td>11</td>\n",
       "      <td>4599</td>\n",
       "      <td>&lt;div class=\"newsBox\"&gt;\\n&lt;p&gt;Deniz Baykal, \"&lt;b&gt;yü...</td>\n",
       "      <td>0</td>\n",
       "      <td>deniz baykal, \"yüzde 50 oyla anayasa yapılmaz\"...</td>\n",
       "      <td>[deniz, baykal, \", yuzde, 50, oyla, anayasa, y...</td>\n",
       "    </tr>\n",
       "    <tr>\n",
       "      <th>12</th>\n",
       "      <td>12</td>\n",
       "      <td>4600</td>\n",
       "      <td>&lt;div class=\"newsBox\"&gt;\\n&lt;p&gt;Konya Milletvekili A...</td>\n",
       "      <td>0</td>\n",
       "      <td>konya milletvekili ahmet davutoğlu, başbakanlı...</td>\n",
       "      <td>[konya, milletvekili, ahmet, davut, basbakan, ...</td>\n",
       "    </tr>\n",
       "    <tr>\n",
       "      <th>13</th>\n",
       "      <td>13</td>\n",
       "      <td>4601</td>\n",
       "      <td>&lt;div class=\"newsBox\"&gt;\\n&lt;p&gt;Soru şudur: &lt;b&gt;2'nci...</td>\n",
       "      <td>0</td>\n",
       "      <td>soru şudur: 2'nci dünya savaşı'nda bile ülkemi...</td>\n",
       "      <td>[soru, sudur, :, 2, nci, dunya, savas, nda, bi...</td>\n",
       "    </tr>\n",
       "    <tr>\n",
       "      <th>14</th>\n",
       "      <td>14</td>\n",
       "      <td>4602</td>\n",
       "      <td>&lt;div class=\"newsBox\"&gt;\\n&lt;p&gt;Bu hafta, uluslarara...</td>\n",
       "      <td>0</td>\n",
       "      <td>bu hafta, uluslararası ve yurtiçi piyasalar he...</td>\n",
       "      <td>[bu, hafta, uluslararası, ve, yurti, piyasalar...</td>\n",
       "    </tr>\n",
       "    <tr>\n",
       "      <th>15</th>\n",
       "      <td>15</td>\n",
       "      <td>4603</td>\n",
       "      <td>&lt;div class=\"newsBox\"&gt;\\n&lt;p&gt;&lt;img alt=\"\" src=\"htt...</td>\n",
       "      <td>0</td>\n",
       "      <td>şaşırdınız değil mi? yaa... haberiniz yokken b...</td>\n",
       "      <td>[sas, degil, mi, yaa, ., ., ., haberiniz, yokk...</td>\n",
       "    </tr>\n",
       "    <tr>\n",
       "      <th>16</th>\n",
       "      <td>16</td>\n",
       "      <td>4604</td>\n",
       "      <td>&lt;div class=\"newsBox\"&gt;\\n&lt;p&gt;Ne diyordu Orhan Sey...</td>\n",
       "      <td>0</td>\n",
       "      <td>ne diyordu orhan seyfi orhon?\\r\"diyorlar, kül ...</td>\n",
       "      <td>[ne, diyordu, orhan, seyfi, orhon, \", diyorlar...</td>\n",
       "    </tr>\n",
       "    <tr>\n",
       "      <th>17</th>\n",
       "      <td>17</td>\n",
       "      <td>4606</td>\n",
       "      <td>&lt;div class=\"newsBox\"&gt;\\n&lt;p&gt;&lt;strong&gt;K&lt;/strong&gt;&lt;b...</td>\n",
       "      <td>0</td>\n",
       "      <td>kadir has üniversitesi, türk dış politikası ka...</td>\n",
       "      <td>[kadir, has, universitesi, turk, dıs, politika...</td>\n",
       "    </tr>\n",
       "    <tr>\n",
       "      <th>18</th>\n",
       "      <td>18</td>\n",
       "      <td>4607</td>\n",
       "      <td>&lt;div class=\"newsBox\"&gt;\\n&lt;h2&gt;ADANA&lt;/h2&gt;\\n&lt;p&gt;Çuku...</td>\n",
       "      <td>0</td>\n",
       "      <td>adanaçukurova bölge temsilcimiz ersin ramoğlu'...</td>\n",
       "      <td>[adana, bolg, temsilcimiz, ersin, ram, na, \", ...</td>\n",
       "    </tr>\n",
       "    <tr>\n",
       "      <th>19</th>\n",
       "      <td>19</td>\n",
       "      <td>4608</td>\n",
       "      <td>&lt;div class=\"newsBox\"&gt;\\n&lt;p&gt;3 gündür Cumhurbaşka...</td>\n",
       "      <td>0</td>\n",
       "      <td>3 gündür cumhurbaşkanımız recep tayyip erdoğan...</td>\n",
       "      <td>[3, gundur, cumhurbas, recep, tayyip, erdogan,...</td>\n",
       "    </tr>\n",
       "  </tbody>\n",
       "</table>\n",
       "</div>"
      ],
      "text/plain": [
       "    Unnamed: 0  ...                             Bert_Stemmed_Tokenized\n",
       "10          10  ...  [feto, bu, milletin, vergileri, alınan, silahl...\n",
       "11          11  ...  [deniz, baykal, \", yuzde, 50, oyla, anayasa, y...\n",
       "12          12  ...  [konya, milletvekili, ahmet, davut, basbakan, ...\n",
       "13          13  ...  [soru, sudur, :, 2, nci, dunya, savas, nda, bi...\n",
       "14          14  ...  [bu, hafta, uluslararası, ve, yurti, piyasalar...\n",
       "15          15  ...  [sas, degil, mi, yaa, ., ., ., haberiniz, yokk...\n",
       "16          16  ...  [ne, diyordu, orhan, seyfi, orhon, \", diyorlar...\n",
       "17          17  ...  [kadir, has, universitesi, turk, dıs, politika...\n",
       "18          18  ...  [adana, bolg, temsilcimiz, ersin, ram, na, \", ...\n",
       "19          19  ...  [3, gundur, cumhurbas, recep, tayyip, erdogan,...\n",
       "\n",
       "[10 rows x 6 columns]"
      ]
     },
     "execution_count": 75,
     "metadata": {
      "tags": []
     },
     "output_type": "execute_result"
    }
   ],
   "source": [
    "mainData[10:20]"
   ]
  },
  {
   "cell_type": "markdown",
   "metadata": {
    "colab_type": "text",
    "id": "rH3SmLNudZA3"
   },
   "source": [
    "##### I will be using Bert Tokenizer for tokenization & stemming"
   ]
  },
  {
   "cell_type": "code",
   "execution_count": 0,
   "metadata": {
    "colab": {},
    "colab_type": "code",
    "id": "vZ0u1bTidZA4"
   },
   "outputs": [],
   "source": [
    "mainData['Cleaned_Articles'] = [str(i).lower() for i in mainData['Cleaned_Articles']]\n"
   ]
  },
  {
   "cell_type": "code",
   "execution_count": 7,
   "metadata": {
    "colab": {
     "base_uri": "https://localhost:8080/",
     "height": 123
    },
    "colab_type": "code",
    "id": "AmssUcljdZA7",
    "outputId": "733ef14c-0a7d-4357-a130-76e27a5daab9"
   },
   "outputs": [
    {
     "data": {
      "text/plain": [
       "Unnamed: 0                                                          0\n",
       "index                                                               0\n",
       "Articles            Bu ülkede iflah olmaz bir kafa var. Onlar ne d...\n",
       "Labels                                                              0\n",
       "Cleaned_Articles    bu ülkede iflah olmaz bir kafa var. onlar ne d...\n",
       "Name: 0, dtype: object"
      ]
     },
     "execution_count": 7,
     "metadata": {
      "tags": []
     },
     "output_type": "execute_result"
    }
   ],
   "source": [
    "mainData.iloc[0]"
   ]
  },
  {
   "cell_type": "code",
   "execution_count": 8,
   "metadata": {
    "colab": {
     "base_uri": "https://localhost:8080/",
     "height": 123
    },
    "colab_type": "code",
    "id": "MJRVQ9CK72uF",
    "outputId": "cf08308a-19fe-4a6d-9766-976a0ec08049"
   },
   "outputs": [
    {
     "data": {
      "text/plain": [
       "Unnamed: 0                                                         10\n",
       "index                                                            4598\n",
       "Articles            <div class=\"newsBox\">\\n<p>FETÖ bu milletin ver...\n",
       "Labels                                                              0\n",
       "Cleaned_Articles    fetö bu milletin vergileriyle alınan silahlarl...\n",
       "Name: 10, dtype: object"
      ]
     },
     "execution_count": 8,
     "metadata": {
      "tags": []
     },
     "output_type": "execute_result"
    }
   ],
   "source": [
    "mainData.loc[10]"
   ]
  },
  {
   "cell_type": "code",
   "execution_count": 9,
   "metadata": {
    "colab": {
     "base_uri": "https://localhost:8080/",
     "height": 123
    },
    "colab_type": "code",
    "id": "ghpGxNtl72uI",
    "outputId": "927d2eb5-e730-46b2-c582-cb402c385080"
   },
   "outputs": [
    {
     "data": {
      "text/plain": [
       "Unnamed: 0                                                       3800\n",
       "index                                                            2559\n",
       "Articles            [<div class=\"author-the-content content-elemen...\n",
       "Labels                                                              1\n",
       "Cleaned_Articles     saygı öztürk, kaz dağları’ndaki katliamı yeri...\n",
       "Name: 3800, dtype: object"
      ]
     },
     "execution_count": 9,
     "metadata": {
      "tags": []
     },
     "output_type": "execute_result"
    }
   ],
   "source": [
    "mainData.loc[3800]"
   ]
  },
  {
   "cell_type": "code",
   "execution_count": 10,
   "metadata": {
    "colab": {
     "base_uri": "https://localhost:8080/",
     "height": 172,
     "referenced_widgets": [
      "6a1eb5d8ec0c4549a1ad332146a24509",
      "8c8211248195488095e73f7fcdd30776",
      "a10cc5a2173644b29e60bcb0f4fcea84",
      "26d15eb467154a17b4c9766cbeebbe9e",
      "d3198b4acd01407885f0375eb35ee17e",
      "46ea4fbdb9fd40a4a022b70b219398f1",
      "c8bb842805df45bfaa5603de0c466980",
      "098ed9dea91343399e5ba7b88a636269",
      "614228f6190145c4abcf9d664384ef58",
      "91ca536a87f143a89aa75ba4b5da66ff",
      "5d6d4bc919164a78a8226f5ef4edb9b2",
      "35a0be200c994a52a1fe13cc85ca889e",
      "74b3a9ffa8884c6a954c33b55c19345c",
      "bc8d3ca1753848c3bda6c63bfd9ae923",
      "f2ebd5a9672c41f3b752d4bf69230b23",
      "f16a980cca6e4fd491c7a9f28d386f62"
     ]
    },
    "colab_type": "code",
    "id": "AErGQluidZA-",
    "outputId": "e92778bc-38a8-4241-c6a3-bf7bf546ddf0",
    "scrolled": true
   },
   "outputs": [
    {
     "data": {
      "application/vnd.jupyter.widget-view+json": {
       "model_id": "6a1eb5d8ec0c4549a1ad332146a24509",
       "version_major": 2,
       "version_minor": 0
      },
      "text/plain": [
       "HBox(children=(FloatProgress(value=0.0, description='Downloading', max=1233088.0, style=ProgressStyle(descript…"
      ]
     },
     "metadata": {
      "tags": []
     },
     "output_type": "display_data"
    },
    {
     "name": "stdout",
     "output_type": "stream",
     "text": [
      "\n"
     ]
    },
    {
     "data": {
      "application/vnd.jupyter.widget-view+json": {
       "model_id": "614228f6190145c4abcf9d664384ef58",
       "version_major": 2,
       "version_minor": 0
      },
      "text/plain": [
       "HBox(children=(FloatProgress(value=0.0, description='Downloading', max=59.0, style=ProgressStyle(description_w…"
      ]
     },
     "metadata": {
      "tags": []
     },
     "output_type": "display_data"
    },
    {
     "name": "stdout",
     "output_type": "stream",
     "text": [
      "\n"
     ]
    },
    {
     "name": "stderr",
     "output_type": "stream",
     "text": [
      "/usr/local/lib/python3.6/dist-packages/transformers/tokenization_utils.py:831: FutureWarning: Parameter max_len is deprecated and will be removed in a future release. Use model_max_length instead.\n",
      "  category=FutureWarning,\n"
     ]
    }
   ],
   "source": [
    "tokenizer_bert = BertTokenizer.from_pretrained(\"dbmdz/bert-base-turkish-128k-uncased\")\n",
    "#model = AutoModel.from_pretrained(\"dbmdz/bert-base-turkish-128k-cased\")"
   ]
  },
  {
   "cell_type": "code",
   "execution_count": 0,
   "metadata": {
    "colab": {},
    "colab_type": "code",
    "id": "mfwVCG2sdZBA"
   },
   "outputs": [],
   "source": [
    "def wordpieces(x):\n",
    "    willCleaned = tokenizer_bert.tokenize(x)\n",
    "    clean = []\n",
    "    tokens = [\",\",\"’\",\"?\",\"(\",\")\",\"'\",\"*\",\"!\"]\n",
    "    for element in willCleaned:\n",
    "        if element not in tokens:\n",
    "            if not \"#\" in element:\n",
    "                clean.append(element)\n",
    "    return clean"
   ]
  },
  {
   "cell_type": "code",
   "execution_count": 0,
   "metadata": {
    "colab": {},
    "colab_type": "code",
    "id": "F7EYQ5JRdZBC"
   },
   "outputs": [],
   "source": [
    "mainData['Bert_Stemmed_Tokenized'] = [wordpieces(str(i)) for i in mainData['Cleaned_Articles']]"
   ]
  },
  {
   "cell_type": "markdown",
   "metadata": {
    "colab_type": "text",
    "id": "ovpKZOCPdZBH"
   },
   "source": [
    "##### Example of supporter"
   ]
  },
  {
   "cell_type": "markdown",
   "metadata": {
    "colab_type": "text",
    "id": "zFW4tda5dZBH"
   },
   "source": [
    "##### Labeled 0"
   ]
  },
  {
   "cell_type": "code",
   "execution_count": 13,
   "metadata": {
    "colab": {
     "base_uri": "https://localhost:8080/",
     "height": 54
    },
    "colab_type": "code",
    "id": "3EblK4-8dZBI",
    "outputId": "c33b0933-5b4a-42ff-fd15-5274f7e31d76",
    "scrolled": true
   },
   "outputs": [
    {
     "data": {
      "text/plain": [
       "'bu ülkede iflah olmaz bir kafa var. onlar ne deprem dinliyor, ne şehitlerimize saygı duyuyor ne de küresel bir salgına dönüşen koronavirüs onları durdurabiliyor. libya’da şehit düşen mi̇t görevlilerinin mezar taşlarını bile yayınlamaktan çekinmediler. bu ülkede en büyük istismar ise atatürkçülük adına yapılan atatürk istismarı oluyor.atatürk’ün harbiye’ye girişinin 121. yıldönümü törenlerine milli savunma bakanı hulusi akar ve kuvvet komutanları katıldı. atatürk’ün harbiye’deki öğrenci numarası olan 1283 okunduğunda, harp okulu öğrencileri ayağa kalkarak i̇çimizde dedi. bu tören sosyal medya organlarından da canlı olarak yayınlandı. görüntü dikkatle incelendiğinde ayağa kalkmayanların olduğu görülüyor. bunun üzerine hemen bir karşı saldırı başladı. vay bazı harp okulu öğrencileri ayağa kalkmamış, vay efendim bunlarla ilgili kayıt tutulup işlem yapılmış mı...bunu bizim savunma muhabirlerimizin hepsi bilir. ben de 90’lı yıllarda harp okulu’ndaki töreni izlemiş bir gazeteciyim. atatürk’ün numarası okunduğu anda harbiyeliler fişek gibi yerlerinden fırlamış ve gök gürlemesi gibi i̇çimizde demişlerdi. genç harbiyelilerin yüzlerindeki heyecan ve gururu aradan yıllar geçmesine rağmen unutamıyorum. ama o törende de milli savunma bakanı, kuvvet komutanları, davetliler ve rütbeli subaylar ayağa kalkmamıştı. bu sadece harp okulu öğrencilerine tanınmış bir ayrıcalık. bu yılki törenlerde ayağa kalkmayanlar davetliler ve teğmen ile albay arasındaki rütbelere sahip olan öğretmenler. yani harbiyelilere atatürkçü düşünceyi anlatan öğretmenleri ve komutanları... ne yani, öğrencisi atatürk’e saygı duyup ayağa kalkıyor ama ona atatürk sevgisini aşılayan öğretmeni ve komutanı atatürk’e saygısızlık ediyor, ayağa kalkmıyor mu?gazeteciliğin temel kuralı sormak, sorgulamak ve araştırmaktır. milli savunma bakanlığı’nın basın birimine ya da milli savunma üniversitesi rektörü erhan afyoncu’ya sorsalar, gerçeği öğrenirlerdi. size arşivlerden bir fotoğraf bırakacağım. orada da komutan ve davetliler ile öğretim üyelerinin oturduğu, harp okulu öğrencilerinin ise ayakta olduğu görülüyor.bunların derdi ne biliyor musunuz? hatırlarsanız, 27 mayıs sürecinin ünlü parolası harbiyeli aldanmazdı. bunlar demokrasinin emrinde olan harbiyeliden hoşlanmazlar, bunların ideali olan darbenin parolası olan harbiyelidir... dert o dert...erdoğan-putin görüşmesi sadece i̇dlib sürecini değil, türk-rus ilişkilerinin seyrini de belirleyecek. i̇ki lider kriz anlarında bir araya geldiler. rus uçağının düşürülmesi, fırat kalkanı, zeytin dalı ve barış pınarı harekâtlarında krizden güçlü çözümler çıkarmayı başardılar. astana sürecinin mimarı oldular.bu kez i̇dlib krizini masaya yatıracaklar. ancak i̇dlib sürecinde putin’in tavrında değişiklik gözlemlenmeye başladı. erdoğan’la birlikte birçok krizin aşılmasını sağlayan rus lider için ankara’da putin, kgb başkanı gibi hareket ediyor yorumları yapılmaya başlandı. dostum putin henüz bay putine dönüşmedi ama erdoğan’ın putin’e olan güveni sarsıldı.görüşmede erdoğan’ın sadece i̇dlib’deki durumu gündeme getirmeyeceği, türk-rus ilişkilerini masaya yatıracağı söyleniyor. putin’le görüşmede, bir paket olarak türkiye ile rusya arasındaki ekonomik ilişkilerin de yer alacağı ifade ediliyor. ekonomiyle ilgili pakette yer alan türk gazı, nükleer santral ve s-400’ler sadece ekonomik değil, stratejik açıdan da büyük önem arz ediyor. türk-rus ilişkilerinin sadece i̇dlib’den ibaret olmadığı ama i̇dlib’den zarar görebileceği mesajı verilecek.i̇dlib konusuna türkiye bir milat olarak bakıyor. eğer i̇dlib’den geri adım atarsak, sıra zeytin dalı, fırat kalkanı ve barış pınarı bölgelerine gelir deniliyor.görüşmeye ilişkin beklentileri şöyle sıralamak mümkün.1- kalıcı ateşkes ilan edilmesi.2- i̇dlib’in güvenli bölge ilan edilmesi.türkiye’nin i̇dlib hava sahasını kullanmasına izin verilmiyor. i̇dlib’de güvenli bölge ilan edilerek sadece türkiye değil, rejim ve rus uçaklarının da uçmaması sağlanmalı.putin görüşme sırasında i̇dlib şehir merkezinde kontrolün sağlanması konusunu gündeme getirirse, erdoğan’ın bir b planı olduğu söyleniyor. eğer putin i̇dlib’in kontrolünü birlikte sağlamayı önerirse, erdoğan’ın karşı bir öneri getirmesi sürpriz olmamalı.erdoğan-putin görüşmesinden ne çıkacağı bilinmiyor. ama hem türkiye’nin hem de rejimin bölgeye yığınağı sürüyor. rusya ile rejimin, i̇dlib’i doğu guta’da halep’te yaptığı gibi hayalet şehire dönüştürmek istediği düşünülüyor. bu türkiye’ye yönelecek 1.5-2 milyon yeni mülteci demek. o nedenle türkiye, buna izin vermemekte kararlı. 27 şubat bir dönüm noktası oldu. sınırlarımıza sıfır noktada savaş uçaklarımızın 24 saatlik önleme uçuşları devam ediyor.türkiye, hiç olmadığı kadar kararlı.peki görüşmede ipler kopacak mı, yeni bir süreç başlayacak mı?tam bir bıçak sırtı durum söz konusu. ateşkes ilan edilmesi başta olmak üzere bir ilerleme sağlanması bekleniyor. yani masa devrilmeyecek.34 şehidimizin haberini aldığımız 27 şubat gecesi i̇yi̇ parti genel başkanı meral akşener ve mhp lideri devlet bahçeli, cumhurbaşkanı erdoğan’ı arayarak üzüntülerini bildirdiler. ancak chp genel başkanı kemal kılıçdaroğlu, cumhurbaşkanı erdoğan’ı aramaya gerek duymadı. bu tür zamanlar siyasetin, sen-ben kavgasının bir kenara bırakılıp birlik ve beraberlik duygusunun ön plana çıkarılması gereken anlar. meclis’te i̇dlib konulu kapalı oturum yapılırken, türk siyasetinin son 50-60 yılında yer almış olan hasan korkmazcan’la bunu konuşuyorduk. korkmazcan, ap’de başladığı siyaseti demokratik parti ve anap’ta sürdüren bir isim. şimdi vatan partisi’nde. 1974’te kıbrıs barış harekâtı başladığında demokratik parti genel başkanı ferruh bozbeyli, başbakan bülent ecevit’i ziyaret ederek desteğimizi bildirmişti dedi. ap genel başkanı süleyman demirel’in de ecevit’i ziyaret ettikten sonra başbakanlığın merdivenlerinde harekâta ilişkin sayın başbakan’dan bilgi aldım. devletimizin, hükümetin ve kahraman mehmetçiğin yanında olduğumuzu bildirmeye geldim diye açıklama yaptığını hatırlattım.o sırada bir yandan da chp grubunu takip ediyordum. kılıçdaroğlu, topuğunuz kıçınızda putin’e koşuyorsunuz dedi. o an doğru mu duydum diye etrafımdakilere sorma ihtiyacı duydum. i̇dlib’in, şehit cenazelerinin konuşulduğu bir dönemde bu ifade şık olmadı. meclis’in mehabetine yakışmadı.cumhurbaşkanı erdoğan grup konuşmasını yaptıktan sonra meclis’ten ayrılıyordu.kuliste bizim de bulunduğumuz bölüme geldi. karşılıklı selamlaştıktan sonra, konuşmanız etkiliydi. mesajlar güçlüydü dedim. öyle mi? diye karşılık verdi. görüntülerle anlatılması daha etkili oldu. sinevizyondaki görüntüler iyi seçilmişti dedik. erdoğan, i̇yi miydi? diye karşı soruyla cevap verdi. o sırada özellikle 15 temmuz’la ilgili görüntüleri izlerken o geceyi tekrar yaşadıklarını, gözyaşlarına hâkim olamadıklarını söyleyenler oldu. cumhurbaşkanı başıyla onayladıktan sonra cumhurbaşkanlığı muhabirlerinin olduğu bölüme doğru ilerledi.cumhurbaşkanı erdoğan’a darbe tartışmalarıyla ilgili soru orada geldi. çünkü erdoğan, grup konuşmasında her konuya değindi ama bir konuya girmedi. o da darbe söylentileri. darbe söylentileri, yeni kampanya. oyuna gelinmesin, vatana millete ihanettir dedi. 15 temmuz’da milletin darbecilere verdiği cevabı hatırlattıktan sonra bunun bir defa adını bile anmak bize haramdır diye konuştu. erdoğan, ak parti milletvekilleriyle toplantıda darbe söylentilerine son noktayı koydu demiştik. bu kez darbe söylentilerini gömdükten sonra üstüne beton döktü. ancak dün meclis’teydim. i̇ktidar ve muhalefet kulislerinin nabzını tutmaya çalıştım. cumhurbaş'"
      ]
     },
     "execution_count": 13,
     "metadata": {
      "tags": []
     },
     "output_type": "execute_result"
    }
   ],
   "source": [
    "mainData['Cleaned_Articles'][0]"
   ]
  },
  {
   "cell_type": "markdown",
   "metadata": {
    "colab_type": "text",
    "id": "H2hIJB8zdZBK"
   },
   "source": [
    "##### Example of against"
   ]
  },
  {
   "cell_type": "markdown",
   "metadata": {
    "colab_type": "text",
    "id": "z1zhAHVRdZBL"
   },
   "source": [
    "#### Labeled 1"
   ]
  },
  {
   "cell_type": "code",
   "execution_count": 14,
   "metadata": {
    "colab": {
     "base_uri": "https://localhost:8080/",
     "height": 54
    },
    "colab_type": "code",
    "id": "xpB2lNjndZBL",
    "outputId": "541e7a5d-0146-4767-d1c4-54ccc415bc3a",
    "scrolled": true
   },
   "outputs": [
    {
     "data": {
      "text/plain": [
       "\" saygı öztürk, kaz dağları’ndaki katliamı yerinde inceledi, yazdı…kaz dağları'ndaki manzarayı görmeye yürek dayanmıyor. çanakkale belediye başkan yardımcısı ünüvar 40'a yakın şirket ruhsatlandırılmış durumda. onlar da katliama başlayacak uyarısını yapıyor. ‘su ve vicdan nöbetleri' ise giderek büyüyor. pazar günkü nöbete herkesi çağırıyorlar.edremitli akın andıç'ı hemşerileri kaz dağları sevdalısı, o ise kendisini kaz dağları delisi olarak tanımlar. ormanına, havasına, suyuna sahip çıkar, yeri gelince tek kişilik eylemini başlatır. birlikte ormanların katledildiği bölgeye giderken, hepimiz iyiliğimiz kadar aydınlatıyoruz dünyayı. kimimiz fener, kimimiz mum kadar  diyor.bir çeşme başında duruyoruz. 24 haziran 1934'te atatürk,i̇ran şahı rıza pehlevi'ye modern türkiye'nin simgesi olarak göstereceği balıkesir-çanakkale yolunda, bu çeşme başında dinleniyorlar. kirazlı yayla balaban tepesinde kahve içiyorlar. gölgesinde kahve içilen ağaç kurumuş olsa da, sarmaşıklar o ağacı canlı gibi gösteriyor. i̇şte, orada, o bölgede şimdi kıyamet kopuyor, yürekler yanıyor.vi̇cdan görevi̇önce üç kişiydiler. su ve vicdan görevi için gelmişlerdi. ormanların altın çıkarmak adına nasıl talan edildiğini ilk onlar anlatmaya çalıştı. bu doğa ve yurt sevdalılarına yeni katılımlar oldu. şimdi küçük çadırlarında, eski odun deposu alanında nöbet tutuyorlar. ne olduğunu göstermek için araçlarla götürüldüklerinde, gördükleri manzara karşısında çığlık atıyorlar, beddua ediyorlar.sesleri gece-gündüz çalışan iş makinelerini durdurmaya yetmiyor. o ormanlar, o güzelim ormanlar, illerin, i̇lçelerin su kaynakları altın için yok ediliyor. orada insanlar altın aranmasına değil, kontrolsüz, vahşice aranmasına karşı çıkıyor.çadırı kuran gençlerin yanına doğru yaklaşırken, kartona yazılmış altını olan giremez yazısını görüyorum. yüzüğümden başka altınım yok deyip yaklaşıyorum. orada bulunanların toprağını, suyunu, havasını korumak dışında başka bir amacı yok. her geçen gün sayıları artan değişik görüşe mensup insanların burada bulunmalarının siyasi bir amacı da bulunmuyor. hepsi de orman, toprak, hava, su, vicdan diyor.kamp alanına bu tabela asıldı.kadinlar ön saftaçadırların bulunduğu alana geldiğimizde, çadır nöbetini başlatan çanakkale belediye başkan yardımcısı rebiye ünüvar, orada neler yapıldığını yeni gelenlere anlatıyor, az sonra sizi araçlarla göndereceğiz. gidin, bölgeyi görün. ama orada kimseyle tartışmayın diyordu. çanakkale kent konseyiçevre meclisibaşkanıpınar bilir, bir ağaç gölgesine kurduğu masada, yapılacak basın bildirisine son şeklini vermeye çalışıyordu.şimdi gölgesinde oturdukları ağaçların da yarın yok edileceğini konuşan kadınlardan emekli hemşire aysun erenalın, kaz dağları can çekişiyor. şimdi direniş için birlik olma zamanı. kanadalı siyanür canavarlarının kendi altın madenleri dururken ülkemizde yaptıkları bu katliama‘dur', ardından da ‘git yolcu' diyelim. geldikleri gibi gitsinler diyordu.burası kazdağları'ndaki maden sahası… binlerce ağaç katledilmiştülay aygün, burada suyumuza, havamıza, doğamıza sahip çıkmaya çalışıyoruz. az sonra göreceğiniz katliam, daha katledilecek alanların dörtte biri bile değil sözlerinin ardından gözleri doluyor.akademisyen zerrin mersin, ev kadını türkan şen ve diğerleri de aynı şeyleri söylüyor. öğretmen tümer yazgan'ın sesi ormanda yankılanıyor: biz yangınlardayız, yüreğimiz yangınlarda…başkan yardımcısı rebiye ünüvar, orada ne yapılmak istendiğine ilişkin geniş bilgiye sahip. kanada şirketi ve doğu biga madencilik'in ormanları yok etmesi şimdiki yerle sınırlı değil. valiliğin gayrisıhhi müessese işletme ruhsatı verdiği 613 hektarlık alanın çed raporu var. siyanür liçi yöntemiyle arama yapılacak. ünüvar bununla kalmayacak. 40'a yakın şirket ruhsatlandırılmış durumda. burada ki durumu gördükten sonra onlar da katliama başlayacak. artık buralar tamamen elden çıkacak diyor.‘su ve vicdan nöbeti' büyüyor.aman allahim!bu güzelliklerin, ormanın arkasında neler oluyor? ağaçların arasından geçip tel örgüyle kapatılmış bir alana geldiğimde aman allahım! diyebildim. bu ne böyle? nerede ormanlarımız?bırakın on binleri, yüz binlerce ağaç kesilmiş. bir kadın gördüğü manzara karşısında kendisini kaybediyor, bağırıyor, beddualar ediyor. tel örgünün ötesinde ise yoğun bir çalışma var. i̇ş makineleri, kepçeler, dozerler, kazıyor kamyonlar toprak taşıyor.çanakkale'nin tek içme ve kullanma su kaynağı olan atikhisar barajı ile çan ve bayramiç ilçelerinin su kaynaklarını besleyen havzalarda, kanadalı alamos gold vedoğu biga şirketlerinin kirazlı balaban'da doğal yaşam alanları üzerindeki çalışması tüm hızıyla devam ederken tepkiler de giderek artıyor. çevre meclisi başkanı pınar bilir, afrika ve amerika kıtasını çöle çeviren, ardında kan, gözyaşı, yoksulluk ve doğa felaketi dışında hiçbir şey bırakmayan bu emperyalist şirket ve yerli görünümlü taşeronlarının, ormanlarımız, topraklarımız, su kaynaklarımız üzerindeki katliamlarına ‘dur' demek ve yaşam hakkımızı savunmak için 26 temmuz'da başlattığımız ‘su ve vicdan nöbeti'mizin halkaları her geçen gün genişliyor diyor.büyük buluşmakirazlı balaban eski orman deposu sahasında, 5 ağustos pazartesi günü toplanılacak. çok sayıda chp milletvekili de bulunacak. bu işin siyasi bir yanı yok. su ve vicdan nöbetimiz çeşmemizden akmasını istediğimiz su gibi duru ve berraktır diyorlar. haklı mücadelelerine destek veren tüm yaşam savunucularına bin pınarlı i̇dan selam ve sevgi gönderiyorlar. su ve vicdan nöbeti için hiçbir siyasi düşünce, sivil toplum kuruluşu, kurum ayırt etmeksizin 5 ağustos'ta herkesi ‘büyük su ve vicdan nöbeti'nde buluşmaya davet ediyorlar.oradaki manzara öyle gazetelerde gördüğünüz fotoğraftaki gibi değil. görmek gerekiyor. ama manzarayı görmeye gerçekten yürek dayanmıyor ve yürekler yangın yerine dönüyor… \""
      ]
     },
     "execution_count": 14,
     "metadata": {
      "tags": []
     },
     "output_type": "execute_result"
    }
   ],
   "source": [
    "mainData['Cleaned_Articles'][3800]"
   ]
  },
  {
   "cell_type": "markdown",
   "metadata": {
    "colab_type": "text",
    "id": "VwNKQafHdZBO"
   },
   "source": [
    "## Long Short Term Memory"
   ]
  },
  {
   "cell_type": "code",
   "execution_count": 15,
   "metadata": {
    "colab": {
     "base_uri": "https://localhost:8080/",
     "height": 34
    },
    "colab_type": "code",
    "id": "JvZ07TSqdZBO",
    "outputId": "99cef8ff-7008-4fad-df28-655e77801b0f"
   },
   "outputs": [
    {
     "name": "stdout",
     "output_type": "stream",
     "text": [
      "Found 55759 unique tokens.\n"
     ]
    }
   ],
   "source": [
    "maximum_words_number = 58161\n",
    "maximum_length = 50000\n",
    "e_dim = 100\n",
    "tokenizer = Tokenizer(num_words=maximum_words_number, filters='!\"#$%&()*+,-./:;<=>?@[\\]^_`{|}~', lower=False)\n",
    "tokenizer.fit_on_texts(mainData['Bert_Stemmed_Tokenized'].values)\n",
    "word_index = tokenizer.word_index\n",
    "print('Found %s unique tokens.' % len(word_index))"
   ]
  },
  {
   "cell_type": "code",
   "execution_count": 0,
   "metadata": {
    "colab": {},
    "colab_type": "code",
    "id": "oc7C3W0pdZBQ"
   },
   "outputs": [],
   "source": [
    "X = tokenizer.texts_to_sequences(mainData['Bert_Stemmed_Tokenized'].values)"
   ]
  },
  {
   "cell_type": "markdown",
   "metadata": {
    "colab_type": "text",
    "id": "_TFewD-udZBS"
   },
   "source": [
    "##### An example of how X looks like after using texts to sequence (encoded words into numbers)"
   ]
  },
  {
   "cell_type": "code",
   "execution_count": 17,
   "metadata": {
    "colab": {
     "base_uri": "https://localhost:8080/",
     "height": 1000
    },
    "colab_type": "code",
    "id": "ZbQ7RaRddZBT",
    "outputId": "6a5a6592-931c-4c17-e422-110a3ef45b0f"
   },
   "outputs": [
    {
     "data": {
      "text/plain": [
       "[4,\n",
       " 451,\n",
       " 18164,\n",
       " 538,\n",
       " 2,\n",
       " 1433,\n",
       " 25,\n",
       " 1,\n",
       " 430,\n",
       " 14,\n",
       " 1100,\n",
       " 8961,\n",
       " 14,\n",
       " 444,\n",
       " 1561,\n",
       " 7099,\n",
       " 14,\n",
       " 7,\n",
       " 291,\n",
       " 2,\n",
       " 344,\n",
       " 250,\n",
       " 134,\n",
       " 826,\n",
       " 6950,\n",
       " 1,\n",
       " 854,\n",
       " 6,\n",
       " 444,\n",
       " 93,\n",
       " 1114,\n",
       " 124,\n",
       " 4070,\n",
       " 2231,\n",
       " 44,\n",
       " 13513,\n",
       " 195,\n",
       " 1,\n",
       " 4,\n",
       " 451,\n",
       " 22,\n",
       " 29,\n",
       " 3293,\n",
       " 42,\n",
       " 120,\n",
       " 547,\n",
       " 213,\n",
       " 120,\n",
       " 9759,\n",
       " 413,\n",
       " 1,\n",
       " 120,\n",
       " 88,\n",
       " 6174,\n",
       " 53,\n",
       " 902,\n",
       " 11530,\n",
       " 1,\n",
       " 69,\n",
       " 915,\n",
       " 197,\n",
       " 717,\n",
       " 269,\n",
       " 4481,\n",
       " 2728,\n",
       " 3,\n",
       " 3900,\n",
       " 8718,\n",
       " 1532,\n",
       " 1,\n",
       " 120,\n",
       " 88,\n",
       " 6174,\n",
       " 264,\n",
       " 623,\n",
       " 6300,\n",
       " 33,\n",
       " 9222,\n",
       " 11966,\n",
       " 3054,\n",
       " 2708,\n",
       " 623,\n",
       " 2478,\n",
       " 19363,\n",
       " 360,\n",
       " 152,\n",
       " 1,\n",
       " 4,\n",
       " 915,\n",
       " 228,\n",
       " 424,\n",
       " 31976,\n",
       " 6,\n",
       " 1062,\n",
       " 21,\n",
       " 3901,\n",
       " 1,\n",
       " 664,\n",
       " 3253,\n",
       " 6175,\n",
       " 2478,\n",
       " 17141,\n",
       " 66,\n",
       " 147,\n",
       " 1,\n",
       " 166,\n",
       " 232,\n",
       " 273,\n",
       " 2,\n",
       " 23,\n",
       " 1892,\n",
       " 178,\n",
       " 1,\n",
       " 3725,\n",
       " 199,\n",
       " 3054,\n",
       " 2708,\n",
       " 623,\n",
       " 2478,\n",
       " 11127,\n",
       " 3725,\n",
       " 1794,\n",
       " 4536,\n",
       " 162,\n",
       " 2607,\n",
       " 24138,\n",
       " 977,\n",
       " 1248,\n",
       " 77,\n",
       " 1,\n",
       " 1,\n",
       " 1,\n",
       " 155,\n",
       " 171,\n",
       " 717,\n",
       " 16253,\n",
       " 601,\n",
       " 1570,\n",
       " 1,\n",
       " 110,\n",
       " 7,\n",
       " 1538,\n",
       " 2078,\n",
       " 1128,\n",
       " 3054,\n",
       " 2708,\n",
       " 2378,\n",
       " 915,\n",
       " 7574,\n",
       " 2,\n",
       " 8719,\n",
       " 1,\n",
       " 120,\n",
       " 88,\n",
       " 6300,\n",
       " 11966,\n",
       " 378,\n",
       " 6174,\n",
       " 3947,\n",
       " 17,\n",
       " 12434,\n",
       " 3902,\n",
       " 3,\n",
       " 607,\n",
       " 1117,\n",
       " 17,\n",
       " 360,\n",
       " 415,\n",
       " 1,\n",
       " 310,\n",
       " 6174,\n",
       " 139,\n",
       " 4482,\n",
       " 3,\n",
       " 10371,\n",
       " 1881,\n",
       " 861,\n",
       " 111,\n",
       " 289,\n",
       " 31977,\n",
       " 1,\n",
       " 24,\n",
       " 18,\n",
       " 915,\n",
       " 7,\n",
       " 197,\n",
       " 717,\n",
       " 269,\n",
       " 3900,\n",
       " 8718,\n",
       " 15447,\n",
       " 3,\n",
       " 6176,\n",
       " 5793,\n",
       " 2478,\n",
       " 11127,\n",
       " 1,\n",
       " 4,\n",
       " 79,\n",
       " 3054,\n",
       " 2708,\n",
       " 623,\n",
       " 5891,\n",
       " 2,\n",
       " 14086,\n",
       " 1,\n",
       " 4,\n",
       " 9223,\n",
       " 915,\n",
       " 2478,\n",
       " 17141,\n",
       " 15447,\n",
       " 3,\n",
       " 238,\n",
       " 15,\n",
       " 2658,\n",
       " 750,\n",
       " 6176,\n",
       " 334,\n",
       " 33,\n",
       " 844,\n",
       " 1,\n",
       " 107,\n",
       " 6174,\n",
       " 120,\n",
       " 187,\n",
       " 2127,\n",
       " 844,\n",
       " 3,\n",
       " 8718,\n",
       " 1,\n",
       " 1,\n",
       " 1,\n",
       " 14,\n",
       " 107,\n",
       " 623,\n",
       " 120,\n",
       " 830,\n",
       " 1561,\n",
       " 19364,\n",
       " 2478,\n",
       " 5201,\n",
       " 24,\n",
       " 527,\n",
       " 120,\n",
       " 11531,\n",
       " 522,\n",
       " 844,\n",
       " 3,\n",
       " 2402,\n",
       " 120,\n",
       " 830,\n",
       " 6796,\n",
       " 221,\n",
       " 2478,\n",
       " 4673,\n",
       " 174,\n",
       " 704,\n",
       " 555,\n",
       " 6951,\n",
       " 2673,\n",
       " 12956,\n",
       " 3,\n",
       " 399,\n",
       " 1,\n",
       " 197,\n",
       " 717,\n",
       " 335,\n",
       " 41,\n",
       " 973,\n",
       " 22267,\n",
       " 34,\n",
       " 6,\n",
       " 197,\n",
       " 717,\n",
       " 1035,\n",
       " 3072,\n",
       " 11128,\n",
       " 4787,\n",
       " 34,\n",
       " 28868,\n",
       " 751,\n",
       " 309,\n",
       " 1,\n",
       " 532,\n",
       " 2312,\n",
       " 2,\n",
       " 1255,\n",
       " 1882,\n",
       " 1,\n",
       " 594,\n",
       " 6,\n",
       " 2090,\n",
       " 3,\n",
       " 15447,\n",
       " 15,\n",
       " 1224,\n",
       " 258,\n",
       " 2232,\n",
       " 3054,\n",
       " 2708,\n",
       " 623,\n",
       " 42,\n",
       " 1520,\n",
       " 66,\n",
       " 147,\n",
       " 1,\n",
       " 580,\n",
       " 2428,\n",
       " 14,\n",
       " 916,\n",
       " 1289,\n",
       " 10722,\n",
       " 1213,\n",
       " 713,\n",
       " 127,\n",
       " 723,\n",
       " 35888,\n",
       " 6174,\n",
       " 16254,\n",
       " 1,\n",
       " 345,\n",
       " 2446,\n",
       " 5267,\n",
       " 33,\n",
       " 6174,\n",
       " 1019,\n",
       " 580,\n",
       " 12957,\n",
       " 33,\n",
       " 6797,\n",
       " 35888,\n",
       " 33,\n",
       " 6174,\n",
       " 1,\n",
       " 1,\n",
       " 1,\n",
       " 3094,\n",
       " 18,\n",
       " 3094,\n",
       " 1,\n",
       " 1,\n",
       " 1,\n",
       " 54,\n",
       " 10,\n",
       " 1257,\n",
       " 164,\n",
       " 79,\n",
       " 565,\n",
       " 127,\n",
       " 32,\n",
       " 60,\n",
       " 10,\n",
       " 574,\n",
       " 256,\n",
       " 10372,\n",
       " 7,\n",
       " 6798,\n",
       " 1,\n",
       " 61,\n",
       " 1002,\n",
       " 778,\n",
       " 16255,\n",
       " 2,\n",
       " 1097,\n",
       " 3753,\n",
       " 1,\n",
       " 574,\n",
       " 991,\n",
       " 553,\n",
       " 1590,\n",
       " 3582,\n",
       " 3438,\n",
       " 3989,\n",
       " 3,\n",
       " 370,\n",
       " 2562,\n",
       " 1718,\n",
       " 4106,\n",
       " 434,\n",
       " 437,\n",
       " 57,\n",
       " 837,\n",
       " 1,\n",
       " 8720,\n",
       " 127,\n",
       " 7921,\n",
       " 2104,\n",
       " 1,\n",
       " 4,\n",
       " 205,\n",
       " 565,\n",
       " 6673,\n",
       " 3190,\n",
       " 24139,\n",
       " 1,\n",
       " 70,\n",
       " 565,\n",
       " 127,\n",
       " 1257,\n",
       " 40,\n",
       " 14087,\n",
       " 1392,\n",
       " 75,\n",
       " 178,\n",
       " 1,\n",
       " 54,\n",
       " 539,\n",
       " 143,\n",
       " 425,\n",
       " 2049,\n",
       " 7575,\n",
       " 1668,\n",
       " 574,\n",
       " 1002,\n",
       " 9,\n",
       " 128,\n",
       " 6,\n",
       " 1257,\n",
       " 20701,\n",
       " 35,\n",
       " 17,\n",
       " 794,\n",
       " 221,\n",
       " 7576,\n",
       " 8123,\n",
       " 790,\n",
       " 1,\n",
       " 2969,\n",
       " 1257,\n",
       " 654,\n",
       " 2009,\n",
       " 1257,\n",
       " 250,\n",
       " 24,\n",
       " 54,\n",
       " 30,\n",
       " 1257,\n",
       " 830,\n",
       " 33,\n",
       " 181,\n",
       " 11967,\n",
       " 1,\n",
       " 164,\n",
       " 54,\n",
       " 30,\n",
       " 79,\n",
       " 565,\n",
       " 264,\n",
       " 757,\n",
       " 312,\n",
       " 5047,\n",
       " 60,\n",
       " 10,\n",
       " 574,\n",
       " 256,\n",
       " 3190,\n",
       " 7744,\n",
       " 99,\n",
       " 1,\n",
       " 1257,\n",
       " 820,\n",
       " 164,\n",
       " 2,\n",
       " 2880,\n",
       " 21,\n",
       " 11,\n",
       " 15,\n",
       " 226,\n",
       " 750,\n",
       " 287,\n",
       " 256,\n",
       " 7,\n",
       " 146,\n",
       " 1385,\n",
       " 735,\n",
       " 1036,\n",
       " 1,\n",
       " 18165,\n",
       " 162,\n",
       " 14088,\n",
       " 146,\n",
       " 278,\n",
       " 60,\n",
       " 5132,\n",
       " 2563,\n",
       " 5515,\n",
       " 3,\n",
       " 318,\n",
       " 10,\n",
       " 749,\n",
       " 1872,\n",
       " 79,\n",
       " 287,\n",
       " 32,\n",
       " 1403,\n",
       " 1374,\n",
       " 6,\n",
       " 29,\n",
       " 504,\n",
       " 3014,\n",
       " 221,\n",
       " 1,\n",
       " 60,\n",
       " 10,\n",
       " 574,\n",
       " 256,\n",
       " 79,\n",
       " 565,\n",
       " 125,\n",
       " 3095,\n",
       " 570,\n",
       " 24,\n",
       " 565,\n",
       " 125,\n",
       " 940,\n",
       " 48,\n",
       " 1795,\n",
       " 2447,\n",
       " 1,\n",
       " 565,\n",
       " 5594,\n",
       " 11,\n",
       " 2,\n",
       " 14089,\n",
       " 21,\n",
       " 2970,\n",
       " 1,\n",
       " 357,\n",
       " 565,\n",
       " 125,\n",
       " 308,\n",
       " 862,\n",
       " 40892,\n",
       " 806,\n",
       " 3438,\n",
       " 3989,\n",
       " 1590,\n",
       " 3582,\n",
       " 3,\n",
       " 370,\n",
       " 2562,\n",
       " 137,\n",
       " 330,\n",
       " 5133,\n",
       " 1,\n",
       " 164,\n",
       " 614,\n",
       " 6425,\n",
       " 99,\n",
       " 20702,\n",
       " 297,\n",
       " 1,\n",
       " 114,\n",
       " 10,\n",
       " 2245,\n",
       " 548,\n",
       " 473,\n",
       " 1085,\n",
       " 1,\n",
       " 142,\n",
       " 10,\n",
       " 565,\n",
       " 40,\n",
       " 181,\n",
       " 137,\n",
       " 473,\n",
       " 1085,\n",
       " 1,\n",
       " 11,\n",
       " 16,\n",
       " 565,\n",
       " 563,\n",
       " 11129,\n",
       " 22268,\n",
       " 821,\n",
       " 7922,\n",
       " 1,\n",
       " 565,\n",
       " 7,\n",
       " 181,\n",
       " 137,\n",
       " 473,\n",
       " 3990,\n",
       " 79,\n",
       " 11,\n",
       " 32,\n",
       " 2091,\n",
       " 3,\n",
       " 574,\n",
       " 535,\n",
       " 6,\n",
       " 4277,\n",
       " 138,\n",
       " 1,\n",
       " 1257,\n",
       " 164,\n",
       " 974,\n",
       " 565,\n",
       " 486,\n",
       " 4984,\n",
       " 1434,\n",
       " 138,\n",
       " 4147,\n",
       " 312,\n",
       " 28869,\n",
       " 54,\n",
       " 30,\n",
       " 2,\n",
       " 1962,\n",
       " 1500,\n",
       " 66,\n",
       " 99,\n",
       " 1,\n",
       " 357,\n",
       " 1257,\n",
       " 565,\n",
       " 40,\n",
       " 1434,\n",
       " 143,\n",
       " 998,\n",
       " 408,\n",
       " 54,\n",
       " 30,\n",
       " 23,\n",
       " 2,\n",
       " 408,\n",
       " 6546,\n",
       " 1963,\n",
       " 6547,\n",
       " 1,\n",
       " 54,\n",
       " 10,\n",
       " 1257,\n",
       " 164,\n",
       " 14,\n",
       " 51,\n",
       " 5595,\n",
       " 1,\n",
       " 24,\n",
       " 67,\n",
       " 11,\n",
       " 16,\n",
       " 67,\n",
       " 7,\n",
       " 3439,\n",
       " 137,\n",
       " 367,\n",
       " 388,\n",
       " 1,\n",
       " 226,\n",
       " 15,\n",
       " 3439,\n",
       " 565,\n",
       " 165,\n",
       " 471,\n",
       " 20703,\n",
       " 6,\n",
       " 3689,\n",
       " 238,\n",
       " 176,\n",
       " 17,\n",
       " 11130,\n",
       " 486,\n",
       " 250,\n",
       " 1389,\n",
       " 566,\n",
       " 1,\n",
       " 4,\n",
       " 11,\n",
       " 53,\n",
       " 145,\n",
       " 114,\n",
       " 1,\n",
       " 122,\n",
       " 10,\n",
       " 142,\n",
       " 113,\n",
       " 43,\n",
       " 1156,\n",
       " 394,\n",
       " 1,\n",
       " 18,\n",
       " 543,\n",
       " 11,\n",
       " 266,\n",
       " 821,\n",
       " 35889,\n",
       " 2070,\n",
       " 1,\n",
       " 1213,\n",
       " 959,\n",
       " 2,\n",
       " 469,\n",
       " 2860,\n",
       " 71,\n",
       " 1,\n",
       " 6426,\n",
       " 2060,\n",
       " 1591,\n",
       " 81,\n",
       " 535,\n",
       " 845,\n",
       " 5892,\n",
       " 83,\n",
       " 828,\n",
       " 148,\n",
       " 221,\n",
       " 1,\n",
       " 11,\n",
       " 89,\n",
       " 570,\n",
       " 26,\n",
       " 2070,\n",
       " 1,\n",
       " 259,\n",
       " 164,\n",
       " 20704,\n",
       " 15448,\n",
       " 77,\n",
       " 43,\n",
       " 2,\n",
       " 127,\n",
       " 582,\n",
       " 77,\n",
       " 184,\n",
       " 2,\n",
       " 2659,\n",
       " 14090,\n",
       " 354,\n",
       " 47,\n",
       " 185,\n",
       " 1,\n",
       " 548,\n",
       " 473,\n",
       " 1085,\n",
       " 485,\n",
       " 209,\n",
       " 260,\n",
       " 2,\n",
       " 7577,\n",
       " 138,\n",
       " 2750,\n",
       " 1,\n",
       " 107,\n",
       " 3507,\n",
       " 26229,\n",
       " 1,\n",
       " 2709,\n",
       " 1397,\n",
       " 4731,\n",
       " 158,\n",
       " 1213,\n",
       " 959,\n",
       " 1908,\n",
       " 73,\n",
       " 132,\n",
       " 153,\n",
       " 35,\n",
       " 2881,\n",
       " 2286,\n",
       " 3,\n",
       " 709,\n",
       " 1127,\n",
       " 116,\n",
       " 1279,\n",
       " 87,\n",
       " 54,\n",
       " 157,\n",
       " 11131,\n",
       " 239,\n",
       " 28870,\n",
       " 1,\n",
       " 70,\n",
       " 78,\n",
       " 153,\n",
       " 35,\n",
       " 317,\n",
       " 275,\n",
       " 87,\n",
       " 54,\n",
       " 157,\n",
       " 8721,\n",
       " 201,\n",
       " 7100,\n",
       " 1,\n",
       " 4,\n",
       " 363,\n",
       " 2233,\n",
       " 1501,\n",
       " 420,\n",
       " 10,\n",
       " 110,\n",
       " 26230,\n",
       " 2,\n",
       " 2552,\n",
       " 24140,\n",
       " 1452,\n",
       " 3,\n",
       " 3948,\n",
       " 11532,\n",
       " 83,\n",
       " 2729,\n",
       " 57,\n",
       " 455,\n",
       " 5794,\n",
       " 1,\n",
       " 375,\n",
       " 238,\n",
       " 565,\n",
       " 9476,\n",
       " 1571,\n",
       " 11968,\n",
       " 4379,\n",
       " 60,\n",
       " 4732,\n",
       " 59,\n",
       " 554,\n",
       " 10,\n",
       " 1190,\n",
       " 321,\n",
       " 146,\n",
       " 686,\n",
       " 33,\n",
       " 1947,\n",
       " 14091,\n",
       " 539,\n",
       " 155,\n",
       " 185,\n",
       " 1,\n",
       " 14091,\n",
       " 13514,\n",
       " 7,\n",
       " 178,\n",
       " 1848,\n",
       " 1031,\n",
       " 132,\n",
       " 3,\n",
       " 7243,\n",
       " 332,\n",
       " 257,\n",
       " 2,\n",
       " 978,\n",
       " 1,\n",
       " 85,\n",
       " 929,\n",
       " 846,\n",
       " 403,\n",
       " 1,\n",
       " 5339,\n",
       " 238,\n",
       " 1178,\n",
       " 370,\n",
       " 1749,\n",
       " 178,\n",
       " 1031,\n",
       " 132,\n",
       " 153,\n",
       " 35,\n",
       " 35890,\n",
       " 26231,\n",
       " 311,\n",
       " 889,\n",
       " 2882,\n",
       " 165,\n",
       " 1726,\n",
       " 994,\n",
       " 687,\n",
       " 7244,\n",
       " 152,\n",
       " 1,\n",
       " 13514,\n",
       " 153,\n",
       " 35,\n",
       " 1077,\n",
       " 2313,\n",
       " 40,\n",
       " 7,\n",
       " 2882,\n",
       " 165,\n",
       " 1726,\n",
       " 8533,\n",
       " 36,\n",
       " 311,\n",
       " 26232,\n",
       " 8124,\n",
       " 614,\n",
       " 365,\n",
       " 311,\n",
       " 105,\n",
       " 567,\n",
       " 2639,\n",
       " 1,\n",
       " 6799,\n",
       " 123,\n",
       " 3,\n",
       " 1824,\n",
       " 463,\n",
       " 752,\n",
       " 1575,\n",
       " 22269,\n",
       " 5596,\n",
       " 39,\n",
       " 38,\n",
       " 176,\n",
       " 4034,\n",
       " 1,\n",
       " 18,\n",
       " 842,\n",
       " 2,\n",
       " 768,\n",
       " 6,\n",
       " 78,\n",
       " 12958,\n",
       " 930,\n",
       " 12959,\n",
       " 1,\n",
       " 275,\n",
       " 2687,\n",
       " 9224,\n",
       " 1257,\n",
       " 830,\n",
       " 2544,\n",
       " 152,\n",
       " 1,\n",
       " 18,\n",
       " 609,\n",
       " 135,\n",
       " 174,\n",
       " 4236,\n",
       " 39,\n",
       " 26233,\n",
       " 9477,\n",
       " 1333,\n",
       " 4236,\n",
       " 1,\n",
       " 565,\n",
       " 40,\n",
       " 444,\n",
       " 11969,\n",
       " 185,\n",
       " 2,\n",
       " 442,\n",
       " 4,\n",
       " 735,\n",
       " 637,\n",
       " 966,\n",
       " 1,\n",
       " 375,\n",
       " 40,\n",
       " 17142,\n",
       " 1364,\n",
       " 1,\n",
       " 87,\n",
       " 54,\n",
       " 1165,\n",
       " 276,\n",
       " 7745,\n",
       " 36,\n",
       " 375,\n",
       " 803,\n",
       " 11533,\n",
       " 1,\n",
       " 26234,\n",
       " 171,\n",
       " 7,\n",
       " 761,\n",
       " 1582,\n",
       " 224,\n",
       " 1,\n",
       " 23,\n",
       " 3583,\n",
       " 36,\n",
       " 276,\n",
       " 24141,\n",
       " 1,\n",
       " 3859,\n",
       " 434,\n",
       " 1047,\n",
       " 1,\n",
       " 186,\n",
       " 55,\n",
       " 39,\n",
       " 23,\n",
       " 358,\n",
       " 1,\n",
       " 664,\n",
       " 15449,\n",
       " 19,\n",
       " 1037,\n",
       " 71,\n",
       " 1,\n",
       " 40893,\n",
       " 664,\n",
       " 73,\n",
       " 140,\n",
       " 2688,\n",
       " 1,\n",
       " 54,\n",
       " 73,\n",
       " ...]"
      ]
     },
     "execution_count": 17,
     "metadata": {
      "tags": []
     },
     "output_type": "execute_result"
    }
   ],
   "source": [
    "X[0]"
   ]
  },
  {
   "cell_type": "markdown",
   "metadata": {
    "colab_type": "text",
    "id": "KX0acylmdZBX"
   },
   "source": [
    "##### An example of how X looks after padding"
   ]
  },
  {
   "cell_type": "code",
   "execution_count": 0,
   "metadata": {
    "colab": {},
    "colab_type": "code",
    "id": "3YgtGCi0dZBY"
   },
   "outputs": [],
   "source": [
    "X = pad_sequences(X, maxlen=maximum_length)"
   ]
  },
  {
   "cell_type": "code",
   "execution_count": 19,
   "metadata": {
    "colab": {
     "base_uri": "https://localhost:8080/",
     "height": 34
    },
    "colab_type": "code",
    "id": "0fuuObR1dZBc",
    "outputId": "46f25397-4776-4082-f25b-a60b42dd99f3",
    "scrolled": true
   },
   "outputs": [
    {
     "data": {
      "text/plain": [
       "array([ 0,  0,  0, ..., 37,  1, 87], dtype=int32)"
      ]
     },
     "execution_count": 19,
     "metadata": {
      "tags": []
     },
     "output_type": "execute_result"
    }
   ],
   "source": [
    "X[0]"
   ]
  },
  {
   "cell_type": "markdown",
   "metadata": {
    "colab_type": "text",
    "id": "bM5p2cWNdZBg"
   },
   "source": [
    "##### This is our target(label)"
   ]
  },
  {
   "cell_type": "code",
   "execution_count": 0,
   "metadata": {
    "colab": {},
    "colab_type": "code",
    "id": "8Mnb-BA6dZBg"
   },
   "outputs": [],
   "source": [
    "Y = mainData['Labels'].values"
   ]
  },
  {
   "cell_type": "code",
   "execution_count": 21,
   "metadata": {
    "colab": {
     "base_uri": "https://localhost:8080/",
     "height": 34
    },
    "colab_type": "code",
    "id": "wtaWp5HndZBk",
    "outputId": "de597a85-951e-426b-f494-88ae02c81300"
   },
   "outputs": [
    {
     "data": {
      "text/plain": [
       "array([0, 0, 0, ..., 1, 1, 1])"
      ]
     },
     "execution_count": 21,
     "metadata": {
      "tags": []
     },
     "output_type": "execute_result"
    }
   ],
   "source": [
    "Y"
   ]
  },
  {
   "cell_type": "markdown",
   "metadata": {
    "colab_type": "text",
    "id": "NqFquaHFdZBn"
   },
   "source": [
    "##### Changing target to a binary array"
   ]
  },
  {
   "cell_type": "code",
   "execution_count": 0,
   "metadata": {
    "colab": {},
    "colab_type": "code",
    "id": "BoV-BUI0dZBn"
   },
   "outputs": [],
   "source": [
    "y_binary = to_categorical(Y)"
   ]
  },
  {
   "cell_type": "code",
   "execution_count": 23,
   "metadata": {
    "colab": {
     "base_uri": "https://localhost:8080/",
     "height": 141
    },
    "colab_type": "code",
    "id": "sV8XvP3UdZBq",
    "outputId": "f4587100-1b15-4a06-fb00-f3efca0b8edf"
   },
   "outputs": [
    {
     "data": {
      "text/plain": [
       "array([[1., 0.],\n",
       "       [1., 0.],\n",
       "       [1., 0.],\n",
       "       ...,\n",
       "       [0., 1.],\n",
       "       [0., 1.],\n",
       "       [0., 1.]], dtype=float32)"
      ]
     },
     "execution_count": 23,
     "metadata": {
      "tags": []
     },
     "output_type": "execute_result"
    }
   ],
   "source": [
    "y_binary"
   ]
  },
  {
   "cell_type": "markdown",
   "metadata": {
    "colab_type": "text",
    "id": "salD2lEJdZBu"
   },
   "source": [
    "##### Let's look how many values of supporters and against we have before feeding into our model"
   ]
  },
  {
   "cell_type": "code",
   "execution_count": 24,
   "metadata": {
    "colab": {
     "base_uri": "https://localhost:8080/",
     "height": 52
    },
    "colab_type": "code",
    "id": "uk3a4OTLdZBu",
    "outputId": "9674e6a0-ee26-4c6e-a5b1-d10b8ebc058c",
    "scrolled": true
   },
   "outputs": [
    {
     "name": "stdout",
     "output_type": "stream",
     "text": [
      "(2513, 50000) (2513, 2)\n",
      "(2513, 50000) (2513, 2)\n"
     ]
    }
   ],
   "source": [
    "X_train, X_test, Y_train, Y_test = train_test_split(X,y_binary, test_size = 0.5, random_state = 42)\n",
    "print(X_train.shape,Y_train.shape)\n",
    "print(X_test.shape,Y_test.shape)"
   ]
  },
  {
   "cell_type": "code",
   "execution_count": 25,
   "metadata": {
    "colab": {
     "base_uri": "https://localhost:8080/",
     "height": 196
    },
    "colab_type": "code",
    "id": "cPDRG1p0dZBy",
    "outputId": "d57168ec-1828-4c09-d7b3-2a5c99993cad"
   },
   "outputs": [
    {
     "name": "stderr",
     "output_type": "stream",
     "text": [
      "/usr/local/lib/python3.6/dist-packages/tensorflow/python/framework/indexed_slices.py:434: UserWarning: Converting sparse IndexedSlices to a dense Tensor of unknown shape. This may consume a large amount of memory.\n",
      "  \"Converting sparse IndexedSlices to a dense Tensor of unknown shape. \"\n"
     ]
    },
    {
     "name": "stdout",
     "output_type": "stream",
     "text": [
      "Train on 1256 samples, validate on 1257 samples\n",
      "Epoch 1/3\n",
      "1256/1256 [==============================] - 3677s 3s/step - loss: 0.6875 - accuracy: 0.5780 - val_loss: 0.6798 - val_accuracy: 0.6054\n",
      "Epoch 2/3\n",
      "1256/1256 [==============================] - 3495s 3s/step - loss: 0.6382 - accuracy: 0.7309 - val_loss: 0.6342 - val_accuracy: 0.7009\n",
      "Epoch 3/3\n",
      "1256/1256 [==============================] - 3568s 3s/step - loss: 0.4604 - accuracy: 0.9172 - val_loss: 0.5507 - val_accuracy: 0.7422\n"
     ]
    }
   ],
   "source": [
    "model = Sequential()\n",
    "model.add(Embedding(maximum_words_number, e_dim, input_length=X.shape[1]))\n",
    "model.add(SpatialDropout1D(1))\n",
    "model.add(LSTM(5, dropout=0.2, recurrent_dropout=0.2))\n",
    "model.add(Dense(2, activation='softmax'))\n",
    "#opt = SGD(lr=0.05)\n",
    "model.compile(loss='categorical_crossentropy', optimizer=\"Nadam\", metrics=['accuracy'])\n",
    "epochs = 3\n",
    "batch_size = 100\n",
    "model_outcome = model.fit(X_train, Y_train, epochs=epochs, batch_size=batch_size,validation_split=0.5,callbacks=[EarlyStopping(monitor='val_loss', patience=1, min_delta=0.0001)])\n",
    "\n"
   ]
  },
  {
   "cell_type": "code",
   "execution_count": 26,
   "metadata": {
    "colab": {
     "base_uri": "https://localhost:8080/",
     "height": 281
    },
    "colab_type": "code",
    "id": "t7eQhCv0dZB2",
    "outputId": "5cd47bb0-ce0d-48ae-aca5-b17003158992"
   },
   "outputs": [
    {
     "data": {
      "image/png": "[encoded data removed]",
      "text/plain": [
       "<Figure size 432x288 with 1 Axes>"
      ]
     },
     "metadata": {
      "needs_background": "light",
      "tags": []
     },
     "output_type": "display_data"
    }
   ],
   "source": [
    "plt.title('Loss')\n",
    "plt.plot(model_outcome.history['loss'], label='train')\n",
    "plt.plot(model_outcome.history['val_loss'], label='validation')\n",
    "plt.legend()\n",
    "plt.show();"
   ]
  },
  {
   "cell_type": "code",
   "execution_count": 27,
   "metadata": {
    "colab": {
     "base_uri": "https://localhost:8080/",
     "height": 281
    },
    "colab_type": "code",
    "id": "rOvZtvW7dZB5",
    "outputId": "4ccc17a0-0e20-40ee-e10d-4f43ac5f4ef7"
   },
   "outputs": [
    {
     "data": {
      "image/png": "[encoded data removed]",
      "text/plain": [
       "<Figure size 432x288 with 1 Axes>"
      ]
     },
     "metadata": {
      "needs_background": "light",
      "tags": []
     },
     "output_type": "display_data"
    }
   ],
   "source": [
    "plt.title('Accuracy')\n",
    "plt.plot(model_outcome.history['accuracy'], label='train')\n",
    "plt.plot(model_outcome.history['val_accuracy'], label='validation')\n",
    "plt.legend()\n",
    "plt.show();"
   ]
  },
  {
   "cell_type": "markdown",
   "metadata": {
    "colab_type": "text",
    "id": "0_p57MiKdZB8"
   },
   "source": [
    "### Test Data"
   ]
  },
  {
   "cell_type": "code",
   "execution_count": 0,
   "metadata": {
    "colab": {},
    "colab_type": "code",
    "id": "mxVR8RKrdZB8"
   },
   "outputs": [],
   "source": [
    "lstmpredict = model.predict(X_test)"
   ]
  },
  {
   "cell_type": "code",
   "execution_count": 29,
   "metadata": {
    "colab": {
     "base_uri": "https://localhost:8080/",
     "height": 34
    },
    "colab_type": "code",
    "id": "7lPtko9OdZB_",
    "outputId": "4cc3b092-709f-41d1-8fa1-87f5e22cef7c"
   },
   "outputs": [
    {
     "name": "stdout",
     "output_type": "stream",
     "text": [
      "Accuracy score of testing is: 0.7508953442101074\n"
     ]
    }
   ],
   "source": [
    "y_pred = (lstmpredict > 0.5) \n",
    "print(\"Accuracy score of testing is:\", accuracy_score(Y_test,y_pred))"
   ]
  },
  {
   "cell_type": "markdown",
   "metadata": {
    "colab_type": "text",
    "id": "sFNw3Mo1dZCC"
   },
   "source": [
    "#### Confusion Matrix"
   ]
  },
  {
   "cell_type": "code",
   "execution_count": 0,
   "metadata": {
    "colab": {},
    "colab_type": "code",
    "id": "8YRfut6qdZCC"
   },
   "outputs": [],
   "source": [
    "y_pred_binary = np.where(y_pred > 0.5, 1., 0.)"
   ]
  },
  {
   "cell_type": "code",
   "execution_count": 31,
   "metadata": {
    "colab": {
     "base_uri": "https://localhost:8080/",
     "height": 52
    },
    "colab_type": "code",
    "id": "_6ykAeCKdZCE",
    "outputId": "79edba32-b937-446c-f97d-f64fdeb226be"
   },
   "outputs": [
    {
     "data": {
      "text/plain": [
       "array([[1193,  103],\n",
       "       [ 523,  694]])"
      ]
     },
     "execution_count": 31,
     "metadata": {
      "tags": []
     },
     "output_type": "execute_result"
    }
   ],
   "source": [
    "confusion_matrix(Y_test.argmax(axis=1), y_pred_binary.argmax(axis=1))"
   ]
  },
  {
   "cell_type": "markdown",
   "metadata": {
    "colab_type": "text",
    "id": "T73JBO-WdZCH"
   },
   "source": [
    "#### F1 Score"
   ]
  },
  {
   "cell_type": "code",
   "execution_count": 32,
   "metadata": {
    "colab": {
     "base_uri": "https://localhost:8080/",
     "height": 34
    },
    "colab_type": "code",
    "id": "LhjF9onadZCI",
    "outputId": "bcec32e7-0bc4-4447-9345-478b8438be39"
   },
   "outputs": [
    {
     "data": {
      "text/plain": [
       "0.6891757696127111"
      ]
     },
     "execution_count": 32,
     "metadata": {
      "tags": []
     },
     "output_type": "execute_result"
    }
   ],
   "source": [
    "f1_score(Y_test.argmax(axis=1), y_pred_binary.argmax(axis=1), average='binary')"
   ]
  },
  {
   "cell_type": "markdown",
   "metadata": {
    "colab_type": "text",
    "id": "9Sfjl3sCSubI"
   },
   "source": [
    "# Some news examples from internet "
   ]
  },
  {
   "cell_type": "code",
   "execution_count": 0,
   "metadata": {
    "colab": {},
    "colab_type": "code",
    "id": "uJzVIBhNSs70"
   },
   "outputs": [],
   "source": [
    "def prediction(x):\n",
    "    dfa = {'col1': [x]}\n",
    "    dfab = pd.DataFrame(data=dfa)\n",
    "    dfab = dfab.applymap(str.lower)\n",
    "    dfab['text'] = [wordpieces(str(i)) for i in dfab['col1']]\n",
    "    tokenize_abc = tokenizer.texts_to_sequences(dfab['text'])\n",
    "    tokenize_abc_padded = pad_sequences(tokenize_abc, maxlen=maximum_length)\n",
    "    abc_predict= model.predict(tokenize_abc_padded)\n",
    "    return abc_predict\n"
   ]
  },
  {
   "cell_type": "markdown",
   "metadata": {
    "colab_type": "text",
    "id": "hasJXk0r29o6"
   },
   "source": [
    "### These examples are mostly supporters of the current ruling party and mostly against CHP"
   ]
  },
  {
   "cell_type": "markdown",
   "metadata": {},
   "source": [
    "###### Talks about CHP and IYI Parti and also associates them with PKK and HDP"
   ]
  },
  {
   "cell_type": "code",
   "execution_count": 34,
   "metadata": {
    "colab": {
     "base_uri": "https://localhost:8080/",
     "height": 34
    },
    "colab_type": "code",
    "id": "zC-JL4dky5wT",
    "outputId": "b100f000-90f0-4bf1-ac2b-7e7e3bb78adc"
   },
   "outputs": [
    {
     "data": {
      "text/plain": [
       "array([[0.8300294 , 0.16997051]], dtype=float32)"
      ]
     },
     "execution_count": 34,
     "metadata": {
      "tags": []
     },
     "output_type": "execute_result"
    }
   ],
   "source": [
    "prediction(\"Komik tabii ki. Hayır yani, başka biri yok muydu o açıklamayı yapacak? Yoktuysa, ihtiyaca binaen müttefikinizden isteseydiniz ya! Meral Hanım, ordan bir adet milletvekili göndersen; bir açıklama yapacağız da... Olmaz mı? İllaki Grup Başkanvekili düzeyinde mi olması gerekiyor? E siz de haklısınız. CHP olarak, İP ve PKKnın siyasi kanadı HDPyle birlik olup Libyayla yapılan uluslararası anlaşmaya ret oyu verdiğinizi düz bir milletvekilinin açıklaması hiç yakışık almazdı. Peki, günübirlik de olsa İPten bir adet grup başkan vekili isteyemez miydiniz? Yetişmez miydi? O vakit bıraksaydınız da ittifakla aldığınız mahut kararı İP açıklasaydı. Denizdeki Sevri paramparça eden Libyayla yaptığımız söz konusu anlaşmaya HDPyle birlikte ret oyu verdiklerini (tabanlarına izah edemeyecekleri için) açıklamaktan imtina mı ederlerdi? Tüm müstevlilerin karşı çıktığı (Libya ile imzaladığımız) Deniz Yetki Alanlarının Sınırlandırılmasına İlişkin Mutabakat Muhtırasına karşı CHP ve İPle birlikte ret oyu kullandıklarını nasıl unutturacaklar peki? Size ne mi dediniz, tamam, sonuç itibarıyla onda da haklısınız. Demek ki kala kala CHP Grup Başkan Vekili Engin Altaya mı kaldınız! Ama bu da nerden bakarsanız bakın komik. Bu hükümet dünyanın en doğru işini bile yapsa bizim bu hükümeti alkışlayacak halimiz yok... diyebilen bir insan evladının açıklamasından ne çıkar. Gelgelelim, Kılıçdaroğlu ondan daha az komik değil. Libyada ne işimiz var dedi iyi mi? Sınırlarımızda terör devleti kurulmaması için yapılan Barış Pınarı Harekatı üzerine de Ne işimiz var Suriyede demişti. Bütün bunlar, küresel iktidar yandaşı olmanın doğal sonucudur. Küresel iktidara muhalif olanlar harici ve dahili bedhahların her operasyonuna hazırlıklı olmak zorundadırlar. Yeni Samanyolu TV tesmiye ettiğim FOX TVnin Portakalı emekli amirallerimizden Cem Gürdenizin Kanal İstanbul projesi hakkındaki (teşrih masasına yatırılmaya değer) çekincelerini tıpkı eski Samanyolu TV gibi araçsallaştırdı. FETÖ de algı operatörleriyle askeri vesayeti araçsallaştırarak Balyoz kumpasını gerçekleştirmişti. Portakal adlı o algı operatörü hepsinden daha maharetli. O kadar ki, hem amiralimiz Gürdenizi Balyoz mağduru diye sunuyor, hem de o kumpası gerçekleştirenleri her fırsatta arkalayabiliyor. Zaten araçsallaştırmanın dışında Cem Gürdeniz dahil hiçbir Balyoz mağduru zerre miskali umurunda olmaz. Şayet olsaydı, mesela, Barış Pınarı Harekâtı hakkında Cem Gürdenizin görüşlerine başvurmak yerine, kafam karışık diyerek başlattığı algı operasyonuyla Mehmetçiği adeta her akşam arkasından hançerlemezdi. Hadi şimdi başvursun Cem Gürdenizin görüşlerine de görelim. CHP, İP ve HDPnin ret oyu verdiği Libyaya yaptığımız malum anlaşmanın milat olduğunu, Türkiyenin bu muhtırayla Sevri parçaladığını, KKTC dışında bir ülke ile ilk kez münhasır ekonomik bölgenin batı sınırını bu anlaşma sayesinde çizdiğimizi ve artık üstünlüğün Türkiyeye geçtiğini söylüyor. Söyleşi yapmasından geçtim, amiralimizin bu görüşlerini bile aktaramaz. İşi gücü yalan dolan, işi gücü manipülasyon pornosu yaparak haberleri çarpıtmak. Bazen keşke CHP Genel Başkanı bu çocuk olsaydı diyorum, en azından taşlar yerine otururdu.\")"
   ]
  },
  {
   "cell_type": "markdown",
   "metadata": {},
   "source": [
    "###### Talks about the leader of the CHP and critizes them"
   ]
  },
  {
   "cell_type": "code",
   "execution_count": 35,
   "metadata": {
    "colab": {
     "base_uri": "https://localhost:8080/",
     "height": 34
    },
    "colab_type": "code",
    "id": "rL7UMIWt0WID",
    "outputId": "cfa3de67-68ae-4e76-96de-4f0d62201120",
    "scrolled": true
   },
   "outputs": [
    {
     "data": {
      "text/plain": [
       "array([[0.6444375, 0.3555625]], dtype=float32)"
      ]
     },
     "execution_count": 35,
     "metadata": {
      "tags": []
     },
     "output_type": "execute_result"
    }
   ],
   "source": [
    "prediction(\"Hatırlarsanız, Gezi ve Mısır’daki darbe eş zamanlı olarak yürürlüğe konmuştu. Biz kazandık. Mısır ise çapulculara ve orduya teslim oldu. O sırada skandallar kraliçesi CHP’li prof Gaye Usluer şöyle demişti: Seçimle geldik diyen Mursi üç günde gitti... Buradan da anlıyoruz ki, CHP’lilerin demokrasi tarifinde sandık o kadar da mühim bir yer işgal etmiyor. Hatta, hiç yer işgal etmiyor... Demokrasi, evet, sadece sandık demek değildir ama seçimle geldiğini söyleyip, en azından o makamda bulunuşunun meşruiyetine atıf yapan seçilmiş bir başkanın arkasından üç günde gitti diyerek zil takıp oynamak da değildir. Koskoca prof böyle diyecek de, CHP Genel Başkan Yardımcısı Umut Oran geri kalacak... Mümkün mü? Buyurun kendi ağzından dinleyelim: Mısır’daki gelişmeler çok önemli. Demokrasinin sadece sandıkla olmadığının bir göstergesi. Tüm siyasi kurumlar ders çıkarmalı... Güzel, değil mi? Fakat, Umut Oran, yarattığı güzelliğin peşinden gitmiyor. Yani, sözünün arkasında durmuyor. Mısır’dan ordu yönetime el koydu haberi gelince, yazdığı tweeti siliyor ve hemen yenisini devreye sokuyor: Demokrasi sadece sandık değildir ve darbeler asla kabul edilemez. Çoğulcu, özgür bir ülkede yaşamak herkesin hakkı... Bunu o zaman söyleyecektin Umut Oran... İş işten geçmiş ve demokrasi sadece sandık değildir düşüncesi askeri darbeye varmış, sen kalkmış içinde çoğulculuk, özgürlük geçen hoş ama boş cümleler kuruyorsun. Hadi Umut Oran hafiften de olsa nedamet getiriyor, darbeci demesinler diye yazdığı tweeti siliyor ve kendince iz bırakmıyor. Kemal Kılıçdaroğlu’nun iz bırakmamak gibi bir derdi de yok. Bilakis iz oluştursun istiyor ve bodoslamadan dalıyor. Kendisi anlatsın: Demokrasiyi sadece sandıktan ibaret sayanların yanıldıklarını görüyoruz. Çoğulculuk denen bir kavram var. Herkesin taleplerine, ülkeyi yönetenlerin kulak kabartması gerekiyor. Taleplere duyarsız kalmak, onları görmezden gelmek, ‘benim oy çokluğum vardır, ben istediğimi yaparım’ demek artık günümüzde geçerli değildir. Kemal Bey, belli ki, çoğunluk-çoğulculuk meselesine atıf yapıyor. Peki, Köprü yapmayacaksın, havaalanı açmayacaksın, enerji santrallerini iptal edeceksin, Kanal İstanbul projesinden vazgeçeceksin, Topçu Kışlası’nı aklından bile geçirmeyeceksin, hemen şu an istifanı verip gideceksin ültimatomu hangi çoğulculuk düşüncesinin ürünüdür? Demokrasi sandık demek değildir. Tamam... Demokrasi, beledi hizmetlerin mütemadiyen bir azınlık tarafından engellenmesi midir? Demokrasi sandık demek değildir. Tamam... Demokrasi, sandıkla gelmiş bir iktidarı sokak nümayişleriyle, askeri darbeyle alaşağı etmeye çalışmak mıdır? Demokrasi sandık demek değildir. Tamam... Demokrasi, şartlar olgunlaştığında darbenin meşru hak olduğunu söylemek midir? Kemal Kılıçdaroğlu, Can Dündar’ın, Şartlar olgunlaştığında darbe meşru hak mıdır? sorusuna hayır diyememiş, mırın kırın ederek zımnen bunun hak olabileceğini belirtmiş bir siyasetçidir. Kemal Kılıçdaroğlu budur. Kemal Kılıçdaroğlu, Gezi Parkı nümayişleri sırasında (yani 5 Haziran’da) Gezi Parkı için referandum yapılsın demiş, bu açıklamasından bir hafta sonra (yani 13 Haziran’da) Biz referanduma karşıyız diyerek, kendisine ait çark rekorunu egale etmiş bir siyasetçidir. Kemal Kılıçdaroğlu budur. CHP budur.\")"
   ]
  },
  {
   "cell_type": "markdown",
   "metadata": {},
   "source": [
    "###### Talks about main opposition party"
   ]
  },
  {
   "cell_type": "code",
   "execution_count": 48,
   "metadata": {
    "colab": {
     "base_uri": "https://localhost:8080/",
     "height": 34
    },
    "colab_type": "code",
    "id": "58HtctCwq057",
    "outputId": "18b316eb-34ca-432e-ee52-69391de9054d"
   },
   "outputs": [
    {
     "data": {
      "text/plain": [
       "array([[0.6809493 , 0.31905073]], dtype=float32)"
      ]
     },
     "execution_count": 48,
     "metadata": {
      "tags": []
     },
     "output_type": "execute_result"
    }
   ],
   "source": [
    "prediction(\"Ana muhalefet partisinin kökleri geçmişe uzanan çok ciddi bir açmazı var. Ne olursa olsun toplumun çoğunluğunun desteğini alamıyor. Oyları -çok partili devirdeki rekorunu kırarak yüzde 413 aldığı- 1977 seçiminden bu yana yüzde 25in üzerine hiç çıkmadı. Bu duruma çözüm olarak iki farklı siyaset önerisi tartışılır durur CHPde yıllardır. Bunlardan biri partiyi merkezde konumlayarak toplumun bütününe ulaşabilmeyi temin etme fikri. Diğeri partiyi sola çekerek toplumun çoğunluğunu oluşturan emekçi kitlelerin desteğini alma yaklaşımı. Bu iki görüşün de sahipleri diğer görüşün sahiplerini partinin oy almasına engel olmakla suçlarlar öteden beri. Galiba problem hem sol hem de merkez kavramlarının Türkiyedeki karşılıklarının belirsizliğinde. İkinci Dünya Savaşı sonrasında çok partili hayata geçişimizin ardından Demokrat Parti iktidarları devrinde gerçekleşen büyük transformasyon neticesinde siyasi ve toplumsal merkezin hızla daralması üzerine merkez partisi kimliğini terk edip İsmet Paşanın ağzından ortanın solunda yer aldığını açıklamıştı CHP. Bu hamlenin ideolojik bir tercih değil toplumsal ve politik konjonktürün icabı olduğunu kabul etmek istemeyenlerin tartışmasıdır CHPdeki merkez-sol tartışması. Partideki sol kanat Türkiyenin sosyolojik gerçekleri yerine Marksist literatürün ezberlerini siyasetinin temeline koyduğu için halka ulaşamadı. Halka ulaşılamadı çünkü SHP adı altında faaliyet gösterilen bu dönemde salon solculuğunun ötesine geçilmedi. (Bugünkü HDPnin atası olan HEPin kurucularının katkısı ise Kürt asıllı seçmen tabanını siyasetin ana gövdesinden koparıp uzaklaştırması oldu.) Sol kanat Ecevitin 1977de aldığı rekor oyu o dönemde CHPnin gecekondulara ulaşılmış olmasına bağlıyordu. Mamafih kendileri ne gecekonduya ulaşmak için gayret gösterdiler ne de Ecevitin aldığı oyda Kıbrıs fatihi oluşunun etkisini hesaba kattılar. *** Buna mukabil partinin sola açılmasının yanlış merkeze yönelmesinin doğru siyaset olduğunu düşünenlerin ise merkezinde problem vardı. 1980 öncesinin merkezcileri enikonu tarihdışı bir yaklaşımla ideolojik merkezi toplumsal merkezin yerine ikame etme hayalciliğine kapılmışlardı. Daha da kötüsü bu merkezci gruplar CHPyi bir siyasi parti olarak görmüyor asker ve sivil bürokrasinin devlet üzerindeki hakimiyetinin yardımcı unsurlarından biri sayıyorlardı. Dolayısıyla halktan oy almak ve iktidara gelmek (çünkü fikirleri her daim iktidardaydı) gibi düşünceleri ve arayışları yoktu. CHPnin gerçek anlamda siyasi parti gibi davranmaya başlaması -SHP tecrübesini saymazsak- Deniz Baykal döneminin hadisesidir. Ancak Baykal hem partideki merkezci yapıyı aşamadı hem de parti dışındaki tarihi müttefiklerinin kendisini sürüklemesine engel olamadı. Pragmatist ve yüksek iletişim kabiliyetine sahip -ama yetiştiği dönem itibarıyla demokratik hassasiyetleri zayıf- bir siyasetçi olarak gördüğümüz Baykaldan sonra CHPnin başına geçen Kemal Kılıçdaroğlu sessiz sakin mizacıyla pek ümit vermiyordu parti tabanına. Ama kısa zamanda partiye hâkim olup bunca zamandır da liderliğine bir alternatif çıkmamış olması kim ne derse desin attığı adımların isabetli oluşuyla ilgili. Kılıçdaroğlunun en büyük başarısı herhalde İstanbul ve Ankara belediyelerini bir bakıma çeyrek asır sonra AK Partinin elinden almış olması. Ama bu başarıyı partisinin oylarını arttırarak değil fonksiyonel bir muhalefet bloğu inşa edip muhalif seçmenin kimi yerde aralarındaki ideolojik uçurumlara rağmen ortak hareket etmesini sağlayarak elde etti. CHP lideri partisinin probleminin sağla solla merkezle ilgili olmadığının farkında. Daha doğrusu sağ sol merkez gibi kavramları hayatın ve toplumun gerçeklerinin önüne geçirmenin siyasi başarı getirmediğinin farkında. *** Toplumun sağına soluna değil tümüne ulaşabilmesi gerektiğini parti politikası haline getirmeye uğraşan Kılıçdaroğluna en önemli destek ise kendi partisinden değil rakibi Erdoğandan geldi. AK Parti liderinin ihdas ettiği başkanlık rejiminin seçim sisteminde yüzde elli+bir oy alma zorunluğu ittifakların önünü açtı ve bilhassa iktidarın dışlayıcı dilinin de etkisiyle hiç umulmayan bir sonuç ortaya çıktı. Tabiri caizse beş benzemez İstanbul ve Ankarayı iktidar partisinin elinden almakla kalmadı önümüzdeki cumhurbaşkanlığı seçimi için de mümkün senaryoları ortaya çıkarmış oldu. Bunun en önemli sonuçlarından biri Kılıçdaroğlunun partisindeki etkisinin kökleşmesi ve CHP liderinin siyasi stratejisinin adeta doktrin değeri kazanması olacak gibi görünüyor. Nitekim Fikret Bilanın T24te yazdığına göre CHP yeni bir parti programı hazırlığı içinde. Önümüzdeki genel kongreye yetişecek yeni programda CHPye oy versin veya vermesin her kesimle diyalog kurulması ve mevcut koşullarda Demokratlar İttifakının oluşturulması politikası ve uygulaması siyaset ilkesi olarak Kılıçdaroğlu yaklaşımı adı altında yer alacak. Bu demektir ki siyasi konjonktürün gerektirdiği geçici bir çözüm gibi görünen Kılıçdaroğlu yaklaşımı -CHPyi muhalefet bloğunun merkezine yerleştirme başarısı sayesinde- kalıcı bir parti ilkesine dönüşmüş olacak. Bu da partinin bundan sonra toplum kesimleriyle kuracağı ilişkinin ve geliştireceği diyaloğun yönünü belirleyecek. Ancak CHP genel başkanından veya onun danışmanları ile kurmay kadrosundan ibaret bir yapı değil. Tavandan da tabandan da buna karşı direniş olacaktır. Dolayısıyla Kılıçdaroğlunun dışarıda kazandığı mücadelenin benzerini kendi içinde kazanması çok daha zor olacaktır. Bekleyip göreceğiz.\")"
   ]
  },
  {
   "cell_type": "markdown",
   "metadata": {},
   "source": [
    "###### Criticizing Ekrem İmamoglu in a really harsh way."
   ]
  },
  {
   "cell_type": "code",
   "execution_count": 36,
   "metadata": {
    "colab": {
     "base_uri": "https://localhost:8080/",
     "height": 34
    },
    "colab_type": "code",
    "id": "eDJ8awBq1Rk1",
    "outputId": "6bc5d04e-ac63-467f-e90b-1c7c0f68051e"
   },
   "outputs": [
    {
     "data": {
      "text/plain": [
       "array([[0.82310414, 0.17689592]], dtype=float32)"
      ]
     },
     "execution_count": 36,
     "metadata": {
      "tags": []
     },
     "output_type": "execute_result"
    }
   ],
   "source": [
    "prediction(\"Densizin biri (bu densiz İBB Başkanı mıdır, bürokratlar mıdır yoksa bürokratların görevlendirdiği bir ajans mıdır, bilemedim), ilkokul çocukları için bir broşür hazırlatıyor. Broşürün tirajı 100 bin... Çocuklarımız okuyacak, böylece, Ekrem İmamoğlu marifetiyle demokrasilerde sandığın yeterli olmadığını öğrenecekler. Olmadı, sokağa çıkacaklar... Broşürdeki ilgili sayfaya bakıyoruz. Ne görüyoruz? İki adet Abdullah... (Ressamın çiziminden ikisini de kolayca teşhis edebiliyorsunuz.) İlki Abdullah Öcalan; kaş, göz, pos bıyık yerli yerinde... İkincisi, süzme badem bıyığı, mütebessim çehresi ve George Coloney’den aparılmış saç tarama şekliyle Abdullah Gül... Bu iki (benzetilmiş) Abdullah, azgın bir kalabalığın önünde Başkan şaşırma, sabrımızı taşırma diye slogan atarak yürüyor... Hayır, hem benzetilmiş Abdullah’lar, hem de azgın kalabalığı oluşturanlar çocuk değiller, hele 23 Nisan çocuğu hiç değiller, koca koca adamlar. Buradaki Başkan kimdir? Cumhurbaşkanı Erdoğan dışında biri midir? İBB Başkanı olmadığına göre, muhayyel bir kişilik midir? Bunu da bilemedik. İBB Başkanı belli ki ilkokul çocuklarına 23 Nisan mesajı veriyor. Şunu demeye çalışıyor: Demokrasilerde sandığın yeterli olmadığını artık biliyorsunuz. İcabı halinde Gezi nümayişinde olduğu gibi sokağa çıkabilir, sabrınızı taşıran Başkanla hesaplaşabilirsiniz. Hayır, abartmıyorum... Bu tıynette, bu zihniyette adamlar bunlar... Bitti mi? Biter mi hiç? Asıl bombayı sona sakladım. Broşürün ilgili (yahut ilgisiz) sayfalarından birinde dört (rakamla 4) din adamı resmedilmiş. Resimlerin üzerinde temsil ettikleri dinin ismi yazıyor. Sırasıyla aktarıyorum: İslamiyet, Hıristiyanlık, Alevilik, Yahudilik... İBB Başkanı İmamoğlu burada, muhtemelen dinler (dört kutsal din) arasındaki ortaklığa yahut kardeşliğe vurgu yapıyor... Fakat bir dakika! Üç kutsal dini ve kitabını biliyoruz da, dördüncü kutsal din olan Aleviliği söktüremedik! Nasıl bir dindir bu? Peygamberi kimdir? Kutsal kitabı (yani yazılı öğretisi) nedir? Bu dinin müntesipleri dünyanın hangi eylem ve boylamında yaşamaktadır? Bizim bildiğimiz Alevilik İslam dairesinin içindedir. Yani Aleviler (dinin ritüellerini yerine getirenler vardır, getirmeyenler vardır, tıpkı Sünnilerde olduğu gibi) Müslüman’dırlar... Haa... Alisiz Alevilik gibi alçakça ve şerefsizce çalışma yürütenler, Aleviliği İslam dairesinin dışına çıkarmaya çalışan Alman köpekleri vardır; onların kim olduğunu ve nasıl bir çalışma yürüttüklerini biliyorsunuz. Aralarında bol miktarda CHP’li var... İsimlerine kısa bir Google taramasıyla ulaşabilirsiniz. (İBB yahut ajansı Alisiz Alevilik çalışmasının neresindedir? Bu konuda bizi temin etme görevi İBB’nin terli ve sevimsiz Başkanına düşüyor.) Burada beni düşündüren Kemal Kılıçdaroğlu’nun pozisyonu oldu. İBB Başkanı’na göre (daha doğrusu hazırlattığı broşüre göre) Alevilik özerk bir inanç ve İslamiyet dairesinin dışında. Dolayısıyla, bir Alevi olarak Kılıçdaroğlu da İslamiyet dairesinin dışında. Broşür skandalı ortaya çıktığı andan itibaren Kemal KIlıçdaroğlu’nun tepkilerini izliyorum Bugüne kadar bir açıklama yapmadı. Hayır, kimin haddine Aleviliği İslam dışı göstermek? demedi. Sırıttı... Sadece sırıttı... Sadece sırıtsa... Terli yamağı gibi, yalanlarına ve manipülasyonlarına devam etti.\")"
   ]
  },
  {
   "cell_type": "markdown",
   "metadata": {},
   "source": [
    "###### Talks about Kemalizm, fetö and coup"
   ]
  },
  {
   "cell_type": "code",
   "execution_count": 37,
   "metadata": {
    "colab": {
     "base_uri": "https://localhost:8080/",
     "height": 34
    },
    "colab_type": "code",
    "id": "j49Uo6O_2GIo",
    "outputId": "38c58052-30fd-40b0-f4b9-9abda86f17a3"
   },
   "outputs": [
    {
     "data": {
      "text/plain": [
       "array([[0.77226967, 0.22773036]], dtype=float32)"
      ]
     },
     "execution_count": 37,
     "metadata": {
      "tags": []
     },
     "output_type": "execute_result"
    }
   ],
   "source": [
    "prediction(\"Kemalist ve ulusalcı bilinen arkadaşlar Yeni darbeyi ulusalcılar yapacak iddiasına çok bozuluyor. Özetle Artık akıllandık darbelerin çözüm olmadığını öğrendik bizden geçti filan diyorlar. (Aslında demiyorlar. Diyebileceklerini varsayıyoruz.) İsteseler de darbe yapamazlarmış. Çünkü Ergenekon ve Balyoz soruşturmalarıyla hem güç hem de mevzi kaybetmişler. Demek ki mevzi kaybetmeseydiler verdikleri garantinin bir karşılığı olmayacaktı. Böyle mi anlamalıyız? Peki gerekli güce ulaştıktan ve mevzi tahkimatı yaptıktan sonra darbeye kalkışırlar mı? Bunun cevabını ben vermeyeyim... Herhangi bir haber kanalını açın FETÖ konulu açık oturumlardan birini izleyin özellikle de konuklardan Kemalist bilinenine kulak kesilin... Herhangi bir Kemalist olabilir fark etmez... Bir Ergenekon ve Balyoz mağduru olarak FETÖ’den çok çektiğini hain 15 Temmuz girişimini kınadığını Fetullah Gülen’in bir CIA ajanı olduğunu söyleyecektir. Peşinden FETÖ’cülerden ve CHP’lilerden duymaya alışık olduğumuz itiraz cümlelerini sıralayıp saldırıya geçecektir. Bazen haber kanallarında ismi Ahmet olan emekli bir paşaya rast geliyorum. Tartışma programlarının kadrolu Kemalist’i... Öyle ateşli öyle celadetli öyle öfkeli bir arkadaş ki... Konuşurken ağzından köpükler saçıyor. Makul başlıyor makul şeyler söylüyor Fetullah Gülen’in hainliğinden girip CIA taşeronluğundan çıkıyor ama söz Cumhurbaşkanı Erdoğan’a gelince birden halet değiştiriyor Kemalist cenahın tükettiği ne kadar anakronik malzeme varsa (din devletine gidiyoruz eyvah irtica geliyor her yanı başörtülü kapladı) hepsini boca ediyor... Öyle ateşli ki gerekli güce ulaşsa ve mevzi tahkimatı yapsa hemen darbeye stüdyoda kalkışacakmış gibi... Anlıyorsunuz ki ne kadar akıllandık deseler de her zaman aç bir tarafları var ve darbeye aşerdiklerini gizleyemiyorlar. En acıklısı da şu: FETÖ darbesini yargılarken acayip millî (daha doğrusu ulusalcı) görüntü veriyorlar millî ve yerli olmamayı neredeyse en büyük eksiklik sayıyorlar ama kendi darbelerine aynı gözle bakmıyorlar. İlk ulusalcı darbemiz 27 Mayıs’tı. Haklarını teslim edelim... Toplu kat- liam yapmadılar Meclis’i bombalamadılar tanklarını halkın üzerine sürmediler ama Başbakan astılar. Bol bol da bayrak gösterdiler... Bayraklarla süslü tanklarını bulvarlarda gezdirdiler embedded gazetecilerine devrim çığlıkları attırdılar ama NATO’ya ve CENTO’ya bağlılıklarını bildirmeyi de ihmal etmediler. Dolayısıyla 27 Mayıs millî kılıfı giydirilmiş bir NATO darbesidir en az FETÖ’nünkü kadar alçak bir girişimdir. (Bunu darbeci Sami Küçük anılarında anlatıyor. NATO görevim bitip Türkiye’ye indiğim gün darbe çalışmalarına başladık diyor.) 12 Mart da bir NATO darbesidir. Darbeciler sivil iradeyi bertaraf ettikten sonra CHP’den ödünç aldıkları Nihat Erim’e bir teknokratlar hükümeti kurdurdular. Hükümetin ilk icraatı Amerika’nın talebi doğrultusunda haşhaş ekimini yasaklamak ve U-2 casusluk uçuşlarına izin vermek oldu. 12 Eylül’le 28 Şubat’ın nerelerde kotarıldığını bilmeyene kız bile vermiyorlar. İkisi de Amerika-NATO darbesidir. İlki JUSMATT’ta ikincisi ABD Dışişleri Bakanlığı’nda kotarılmıştır. Kemalist bir darbe olursa hiç şüphesiz bu da bir Amerika-NATO darbesi olacaktır. Peki bu darbe ne zaman gündeme gelir? Çok basit: Kemalistler (İlhan Selçuk’un ifadesiyle) Güzel Amerikayı keşfettiğinde Güzel Amerika da bunların kullanıma hazır hale geldiğine inandığında...\")"
   ]
  },
  {
   "cell_type": "markdown",
   "metadata": {},
   "source": [
    "##### The world's most ignorant, but also the worst men have gathered in the CHP ... More seriously, the party is also a tool of FETÖ organization ..."
   ]
  },
  {
   "cell_type": "code",
   "execution_count": 38,
   "metadata": {
    "colab": {
     "base_uri": "https://localhost:8080/",
     "height": 34
    },
    "colab_type": "code",
    "id": "kBJU9Jb_2U2f",
    "outputId": "80b4b8c2-2953-4f1b-c866-43373cf5cdd5"
   },
   "outputs": [
    {
     "data": {
      "text/plain": [
       "array([[0.8533111 , 0.14668894]], dtype=float32)"
      ]
     },
     "execution_count": 38,
     "metadata": {
      "tags": []
     },
     "output_type": "execute_result"
    }
   ],
   "source": [
    "prediction(\"Dünyanın en cahil aynı zamanda en kötü adamları CHP’de toplaşmış durumda... Daha vahimi şu: Parti ayrıca bir FETÖ aparatı... \")"
   ]
  },
  {
   "cell_type": "markdown",
   "metadata": {
    "colab_type": "text",
    "id": "DAURZDgd3Fly"
   },
   "source": [
    "### Now, we will look at the against of the current ruling party"
   ]
  },
  {
   "cell_type": "markdown",
   "metadata": {},
   "source": [
    "###### First starts with corona after critizes AKP because of they still do not accept the outcomes of the elections. (Istanbul and Ankara municipalities now being controlled by the main opposition party) "
   ]
  },
  {
   "cell_type": "code",
   "execution_count": 39,
   "metadata": {
    "colab": {
     "base_uri": "https://localhost:8080/",
     "height": 34
    },
    "colab_type": "code",
    "id": "iTP4cGK03gII",
    "outputId": "097196e4-9cdb-4b60-8926-881c3f8de126"
   },
   "outputs": [
    {
     "data": {
      "text/plain": [
       "array([[0.31705925, 0.6829408 ]], dtype=float32)"
      ]
     },
     "execution_count": 39,
     "metadata": {
      "tags": []
     },
     "output_type": "execute_result"
    }
   ],
   "source": [
    "prediction(\"Korona salgını ile birlikte tüm dünyada ezberler bozuldu. İnternetin insan hayatına girmesiyle başlayan değişim korona salgınıyla iyice vites artırdı. İnsanların birbirleriyle ilişkileri işçinin işverenle ilişkisi vatandaşın devletle ilişkisi sermaye yapısı tedarik zincirleri tüm kurallar yeniden yazılmaya başlandı. Türkiye ne internet çağından ne de korona salgınından elbette muaf değil. Toplumda değişim başladı. Ancak yönetim AKP hükümeti bu büyük değişimi görmezden geliyor yokmuş gibi davranıyor. İşte örnekler: – Korona ile birlikte kahraman tanımı da değişmeye başladı. Artık ülkeyi koruyan askerlerden çok insanı koruyan sağlık çalışanları kahraman olarak görülüyor. Ancak AKP hükümeti kahramanların büyük çoğunluğunun temsil edildiği Türk Tabipleri Birliğini yok saymaya kendi kurduğu Bilim Kurulunun bile tavsiyelerini dinlemekte direnmeye devam ediyor. – Küreselleşmeden yerele dönüş başladı. Salgın nüfus yoğunluğuna coğrafi koşullara bağlı olarak her yerde aynı şekilde baş göstermiyor. Binlerce kişinin enfekte olduğu ve olmaya devam ettiği nüfus yoğunluğu fazla büyük şehirler ile daha küçük yerleşim yerleri salgını çok farklı yaşıyorlar. Elbette buna göre de yerel önlem almak önem kazanıyor. Ancak AKP hükümeti büyük şehirlerin çoğunda seçimi muhalefet kazandı diye hâlâ merkezi önlem silsilesinde ısrara devam ediyor. Yerelin sesi hiç duyulmuyor alınacak önlemler Saraydaki tek kişinin uzmanlığına hayat görüşüne bilgi ve görgüsüne insafına bırakılmış durumda. Belediye başkanlarının -sırf muhalefet partisinden oldukları için- bağış toplayıp halka ulaştırmalarına bile yasak konuluyor. (Ancak bu arada hükümete yakın dernek ve vakıfların özgürce bağış toplamasının önü açılıyor.) AKP hükümeti enfekte olan bölgeler için özel önlemler almak yerine tüm Türkiyeyi kapsayan 65 yaş üstü ya da 20 yaş altı sokağa çıkma yasakları gibi -yarım yamalak- kararlarla önlem alıyormuş gibi görünmeye çalışıyor. – Salgınla birlikte ağırlık kazanan küreselden yerele dönüş eğilimi ekonomiyi de derinden etkiledi. Tedarik zincirleri sekteye uğrayınca kendi kendine yetmek doktrini ağırlık kazandı. Ancak Türkiye özeline bakıldığında acı gerçek ortaya çıktı; AKPnin son 18 yıllık yanlış tarım ve sanayi politikaları bir dönem kendi kendine yetebilen Türkiyeyi zaten darmadağın etmişti. Salgın döneminde zararın neresinden dönülse kârdır demelerini tarım ve sanayiyi kurtarmak için önlem almalarını beklerken AKP hükümeti yine tek bildiği -ve sevdiği- rant kapısına ağırlık verdi; inşaat sektörü. Gözler o kadar karartılmış olmalı ki tüm Türkiye can derdindeyken AKP hükümeti Kanal İstanbul gibi tek getirisi bir grup insanı zengin edecek proje için ihale yapmaktan bile kaçınmadı. – Devletin her alanda ağırlığı artmaya başladı. Salgınla birlikte piyasa ekonomisi kendini çeviremez hale gelirken devletin hem ekonomi hem de insan hayatı üzerindeki etkinliği artmaya başladı. Piyasa ekonomisinin bayraktarlığını yapan Almanya gibi Kanada gibi ülkeler salgın karşısında çalışamayan işçilere de işverenlere de pek çok güvence getirdi. Serbest piyasanın kralı ABD bile bu akımdan bigane kalamadı: Amerikanın en piyasacı Başkanı Donald Trump imzasıyla tüm ABD vatandaşlarına devlet kesesinden para dağıtıldı. Trump fakirler için sağlık sigortası getirdi diye yerden yere vurduğu bir önceki Başkan Obamanın politikalarının çok önüne geçen önlemlere imza atmak zorunda kaldı… Korona testi ABDde ücretsiz yapıldı. Şimdi tedavi masraflarının da Amerikan devletince üstlenilmesi üzerinde çalışılıyor. Dünyada devlet vatandaşına mali destek verirken Cumhurbaşkanı Erdoğan çıkıp halktan para istedi. Bitmedi… AKP hükümeti salgınla mücadele kapsamında sokağa çıkan herkese maske zorunluluğu getirirken vatandaşlarına bu zorunlu maskeleri ücretsiz vermeyi aklına bile getirmedi. Korona ile mücadele kapsamında AKP hükümetinin bir kanadı sürekli Erdoğanın bağış kampanyasında kaç para toplandığına ilişkin övünç dolu açıklamalar yaparken -o bağışların büyük kısmı da devlet kurumlarından bu arada. Para devletin bir cebinden çıkarılıp diğerine konuluyor- AKP hükümetinin Ticaret Bakanı çıkıp maskeleri uygun bir fiyatla satacaklarını açıklamaktan imtina etmedi. Ücretsiz maske dağıtma işi de vatandaştan bağış toplaması yasaklanan CHPli büyükşehir belediyelerine ihale edildi. Kısacası… Devlet mekanizmasına ve orduya kendi dönemlerinde yerleştirilen FETÖcülerin yaptığı darbeye karşı halka savunma çağrısı yapan… Depreme karşı hiçbir önlem almayıp deprem vergilerini çarçur ettikten sonra deprem anında parayı halktan toplamaya çalışan… Salgın hastalıkta vatandaşına sahip çıkmayıp yine çareyi bağış kampanyalarında bulan bir yönetimle karşı karşıyayız. Eğer depreme salgına darbeye karşı önlem alamıyorsanız siz orada ne yapıyorsunuz vergilerimizi nereye harcıyorsunuz diye sormak hakkımız değil mi?\")"
   ]
  },
  {
   "cell_type": "markdown",
   "metadata": {},
   "source": [
    "###### This one talks about why main opposition party's votes are on increase and also talks about how Mansur Yavas (CHP) is doing well on Ankara."
   ]
  },
  {
   "cell_type": "code",
   "execution_count": 43,
   "metadata": {
    "colab": {
     "base_uri": "https://localhost:8080/",
     "height": 34
    },
    "colab_type": "code",
    "id": "_dmO7vsO6lU4",
    "outputId": "21c646d8-8be2-47ec-95e7-ff4c9a83fd74"
   },
   "outputs": [
    {
     "data": {
      "text/plain": [
       "array([[0.366729  , 0.63327104]], dtype=float32)"
      ]
     },
     "execution_count": 43,
     "metadata": {
      "tags": []
     },
     "output_type": "execute_result"
    }
   ],
   "source": [
    "prediction(\"CHP'li büyükşehir belediyelerinin oyları neden artıyor? Dikkatinizi çektiğini biliyorum. Cumhurbaşkanı Erdoğan Covid-19 salgını konusunda alınan önlemleri anlattığı Ulusa Sesleniş konuşmalarının son bölümlerini CHPyi sert ifadelerle suçlayan iddialara ayırıyor. Peki Covid-19 ile topyekün mücadele edilmesini toplumun bir ve bütün olmasını gerektiren bu süreçte Cumhurbaşkanı neden hep CHPye yükleniyor? Tarafsız gözlemcilere göre bunun tek nedeni var: AKPnin oy kaybederek inişe geçmesi ekonomik sıkıntıların ülkeyi giderek daha sıkıntılı bir sürece taşıyacağının görülmesi buna karşılık CHPli büyükşehir belediye başkanlarının özellikle salgın sürecinde halkla bütünleşmede gösterdikleri başarının oy oranlarına yansıyor olması…… Cumhurbaşkanı Ulusa Seslenişi CHPye Serzenişe çevirerek seçmenlerini konsolide etmeyi ve başka partilere gitmelerini önlemeye çalışıyor…… Sadece serzenişle de yetinmiyor. Her fırsatta CHPli başkanları halkın gözünde itibarsızlaştırmaya çalışıyor çeşitli engellerle onları iş yapamaz hale getirmeye uğraşıyor. ★★★ Dün sabah yazı için bilgisayarımı açıp elektronik posta kutuma yağan yakınmaları okuyunca Strateji ve propaganda uzmanlarından oluşan profesyonel bir ekip AKP iktidarına oy kaybettirebilmek amacıyla günlerce süren bir beyin fırtınası yapmış olsa acaba nasıl bir sonuca varırdı diye düşünmekten kendimi alamadım. Sonra okur mektuplarına ve salgın sürecinde iktidarın yaptıklarına göz attım. Bu ekiptekilerin AKP CHPli yerel yönetimleri hedef tahtasına oturtarak kendi kendine yeterince zarar veriyor. Başka bir şeye gerek yok diyebileceklerine karar verdim!.. ★★★ Öyle ya İktidar CHPli büyükşehir belediyelerinin Covid-19 mağduru geniş toplum kesimlerine maddi yardımda bulunmalarının önüne geçip soruşturma başlatıyor ama bu engel yepyeni yaratıcı çabaların ortaya çıkmasını durduramıyor. Örneğin İstanbul Büyükşehir Belediye Başkanı Ekrem İmamoğlu ve çalışma arkadaşları bu kez askıdaki faturaların ödenmesi amacıyla yepyeni bir kampanyayı başlatıyor. Ankara Büyükşehir Belediye Başkanı Mansur Yavaş insanlara dokunan ve siyasi parti ayırımı yapmaksızın herkesi kucaklayan yaratıcı projelerle hem alkış hem de hayır duaları almaya devam ediyor. Diğer büyükşehir başkanları da öyle… Tümünü yazmaya kalksam sayfalar almaz. Özetle hemen hepsi Covid-19la mücadele tarihimizde yerini alacak başarılara imza atıyorlar…… ★★★ Oysa iktidar suçlayıcı baskıcı kutuplaştırıcı ötekileştirici eylem ve söylemler yerine hangi siyasi partiyi temsil ederse etsin tüm yerel yönetimlerle işbirliği yapmış onların desteğini alarak salgınla mücadeleyi birlik ve bütünlük içinde sürdürebilmiş olsa puanların çoğu kimin başarı hanesine yazılırdı?.. Tabii ki en başta AKPnin… ★★★ Ama tam tersi yapılıyor. Yazımı noktalarken ajanslara düşen bir haber de bu sözlerimi doğruluyor: İstanbul Büyükşehir Belediyesine doğalgaz soruşturması!.. Ne diyeyim? Hayırlı soruşturmalar!\")"
   ]
  },
  {
   "cell_type": "markdown",
   "metadata": {},
   "source": [
    "###### This one talks about  how the main stream media is being controlled by the ruling party and critizes it"
   ]
  },
  {
   "cell_type": "code",
   "execution_count": 44,
   "metadata": {
    "colab": {
     "base_uri": "https://localhost:8080/",
     "height": 34
    },
    "colab_type": "code",
    "id": "eyFAGy8opw8_",
    "outputId": "0b56ad9d-abd7-4616-c6cd-9558e3198d48"
   },
   "outputs": [
    {
     "data": {
      "text/plain": [
       "array([[0.37385195, 0.62614805]], dtype=float32)"
      ]
     },
     "execution_count": 44,
     "metadata": {
      "tags": []
     },
     "output_type": "execute_result"
    }
   ],
   "source": [
    "prediction(\"Özgür medya öyle mi? - Denebilir ki Muharrem İnce provokasyon yaptı. Çok bilinen bir uygulamayı şov için kullandı. Üstelik kendisine araya Cumhurbaşkanının konuşmasının gireceği bildirilmişti. Bekleseydi Cumhurbaşkanı’nın konuşması – konuşmaları bittikten sonra kendisi ile söyleşiye devam edilebilirdi. Hatta kendisine isterse stüdyoda tepkisini ortaya koyabileceği bile söylenmiş o da kabul etmişti. Ama yayını terk etmek yoktu. O onu tercih etti. *** Yukardaki paragraf Haber Global ile Muharrem İnce arasında 29 Mayıs’ta gerçekleşecek söyleşi programının arka planındaki konuşmalardan yola çıkılarak yazıldı. Haber Global’den yapılan açıklamaya göre İnce’ye durum önceden haber verilmiş o da stüdyoda tepkisini dile getireceğini söylemiş ama stüdyonun terki söz konusu olmamıştı. Burada İnce’nin de diyeceği şeyler olmalı. O da muhtemelen sözünün önce Okçular Tekkesi töreni için ardından Ayasofya için üstelik konuşmanın akışı sırasında kesilmiş olmasından dolayı öfkelenmiş tepkisini de böyle ortaya koymuştu. İnce’nin sözleri kaçınılmaz olarak gündem oldu. Sertti. Medya patronlarına tepkiliydi. Cumhurbaşkanı’na tepkiliydi. Şu sözler onun: 35 televizyonda Erdoğan konuşuyor. Erdoğan’ın babasının malı değildir Türkiye Cumhuriyeti. 35 televizyonda o konuşsun bir tanesinde de ben konuşayım. Ne diye sözümü kesiyorsunuz? Erdoğan bu memleketin kurucusu değil sahibi değil. Çağırıyorsanız konuşturacaksanız. Size değil patronlarınıza söylüyorum. Ardından Cumhurbaşkanlığı İletişim başkanı Fahrettin Altun’un açıklaması geliyor. Altun İnce’nin Cumhurbaşkanı ile ilgili sözlerinin haksız mesnetsiz ve ağır ithamlar içerdiğini bu suçlayıcı tavrın kabul edilemez bulunduğunu belirttikten sonra İnce’nin karşı karşıya kaldığı uygulamayı özel bir televizyon kanalının tamamen kendi hür iradesiyle belirlediği yayın tercihleri olarak niteliyor ve açıklamayı şöyle tamamlıyor: Türkiye Cumhuriyeti’nde faaliyet gösteren her bir medya kuruluşu özgürce görüşlerini ve yayın tercihlerini yansıtmakta yasal çerçeve içerisinde faaliyetlerine bir kısıtlama olmaksızın devam edebilmektedir. Sayın İnce’nin bu tavrı medya camiamıza da iftira mahiyeti taşımaktadır. Muharrem İnce’nin tavrı nasıl yorumlanırsa yorumlansın ortada üzerinde durulması gereken üç konu var: BİR: Cumhurbaşkanı’nın parti başkanı olarak yaptıkları dahil her konuşmasının her türlü yayın kesilerek tüm haber kanallarında veriliyor olması. İKİ: Bu işleri tv kanallarının özgür tercihleri ile yapıyor olmaları iddiası. ÜÇ: Medyanın özgürlük sorunu. Şimdi bunları biraz açalım: Cumhurbaşkanının her konuşmasının tüm haber kanallarında veriliyor olması mesela İletişim Başkanı olarak Fahrettin Altun ya da AK Parti propaganda birimleri tarafından nasıl karşılanıyor bilmiyorum. Bunun mesela insanlarda 40 öğün bal ile kaymak yeme tadı verip vermediği pırt diye devreye giren bir Cumhurbaşkanı konuşmasının seyirciyi -mesela gençleri- nasıl etkilediği konusunu masaya yatırmak Acaba sayın Cumhurbaşkanı üzülür mü? gibi bir cesaret meselesi olarak değerlendirilmemeli derim ben. Azıcık iletişim hassasiyeti olan bir kişi – ekip Muharrem İnce’nin tepkisini bu işlere yeniden bakmak için fırsat olarak bile değerlendirebilir diye düşünüyorum. Bu işleri tv kanallarının özgür iradeleri ile yapıyor olduğu iddiasına gelince bu dünyayı azıcık bilen bir insan için bu iddianın yanına nanik yapan bir emoji konsa herhalde yerinde olur. Bunu Fahrettin Altun’un da bildiği kesindir. Ama bazı rejimlerin dili çok açık bilinen gerçeklerin bile böyle ifadelendirilmesi örnekleriyle doludur. Medyanın özgürlük sorununa gelince bir nanik emojisi de burası için gerekiyor. Şayet bu özgürlükse medyanın çok çok geniş bir kesiminin özgür biçimde kendi kendini köleleştirmeyi tercih ettiği sonucuna varmak gerekiyor. Hizaya gelmiş bir medya yapısı. Özel sermaye yapıları oluşturulmuş özel kadrolar oluşturulmuş hizaya gelmekte gecikenlerin ahizenin öteki ucunda ağlatıldığı ve hepsi de özgürce belirlenmiş! medya! Ne garip alternatif kanallarda farklı ses arayan ve azıcık ışıltı gördüğünde heyecanlanan bir Türkiye var diğer yanda. Şöyle sorayım: Yukardan bir irade tam da Fahrettin Altun’un söylediği gibi Bundan böyle herkes özgürce yayın yapabilir gibi bir açıklama yapsa ve medya buna gerçekten inansa medya yapısı bugünkü gibi mi olur? En özgür yazanın bile kendi kendisine uyguladığı Oto sansür olgusu niye var Türkiye’de? Bunu bir âkil devlet adamı yargı için söylemişti: Yukardan bir irade ‘Yargı özgürce karar versin’ gibi bir açıklama yapsa yargı camiası da bunun sahici bir tavır olduğuna inansa yargıdaki adalet sorunu çözülür. Muharrem İnce bir çarpıklığı patlatmış oldu. Provokasyonsa budur.\")"
   ]
  },
  {
   "cell_type": "markdown",
   "metadata": {},
   "source": [
    "###### First starts by celebrating ramadan and talks about how AKP celebrated past ramadan's by spending lots of money, and laughing while people were dying (2000 people) at Gazze."
   ]
  },
  {
   "cell_type": "code",
   "execution_count": 40,
   "metadata": {
    "colab": {
     "base_uri": "https://localhost:8080/",
     "height": 34
    },
    "colab_type": "code",
    "id": "T4eC3-oA4qWP",
    "outputId": "e84bc31e-4864-4d99-da4c-e2489146d5c7"
   },
   "outputs": [
    {
     "data": {
      "text/plain": [
       "array([[0.29842937, 0.7015706 ]], dtype=float32)"
      ]
     },
     "execution_count": 40,
     "metadata": {
      "tags": []
     },
     "output_type": "execute_result"
    }
   ],
   "source": [
    "prediction(\"Aaahh ahh. Nerde o eski ramazanlar.★Hiç unutmuyorum 2013 yılıydı.Asrın liderimizin iftarıydı.Nezih bir topluluk sofradaydı.Götünün kılıyım diyen Şafak Sezer akp’nin açılımcı akilleri Hülya Koçyiğit’le Orhan Gencebay çakma dombıracı Uğur Işılak ak yürekler seninle diye şarkı yapan Doğuş Demet Akalın Nur Yerlitaş Coşkun Sabah Hakan Peker muhteşem vizyonunuzla ülkemizin önünü açıyorsunuz sizin için canımızı vermeye hazırız diyen Ajda Pekkan Tayyip Erdoğan’ın duruşu bile güzel aslan gibi vurduğu yerden ses getiriyor diyen Bülent Ersoy oğlunun yatak odasında para kasaları yakalanan Muammer Güler bakara makara diyen Egemen Bağış… Dedim ya mübarek ramazan sofrasında pek nezih bir topluluktu. ★Oruçlar açıldı kameralara pozlar verildi huşu içinde dağılırlarken olanlar oldu.Ajda Pekkan Bülent Ersoy’a selam vermeden gitti.Vay sen misin öyle giden…Bülent Ersoy çok sinirlendi hödük ucube dedi.Hızını alamadı fevkaladenin fevkinde konuştu…Sen kime numara yapıyorsun da selam vermiyorsun nedir bu nağmelerin kime bu tavırların masada ben varım senden aşağı insan yok senden üstün insanlar var orada neyini hava yapıyorsun küstah ucube dedi.★Şak…Ajda savcılığa suç duyurusunda bulundu.Sadece hakaret davası açmakla yetinmedi televizyona çıktı Bülent Ersoy ayıp etti biz onunla abi-kardeş gibiydik dedi.★Sanat camiamız hop oturup hop kalktı.Takdir edersiniz ki ablan kurban olsun’a abi demek olacak iş değildi.Üstelik Ajda bazı kaynaklara göre 1941 bazı kaynaklara göre 1946 doğumluydu. Bülent Ersoy ise 1952 doğumluydu.Bu durumda Ajda nasıl küçük kardeş olabilirdi ki?Olsa olsa abla olabilirdi.Dolayısıyla Bülent Ersoy’un da Ajda hakkında suç duyurusunda bulunacağı açıklandı.★Ramazan ayının en önemli meselesi buydu.★Asrın liderimiz devreye girdi.Akp yandaşı radyocu Gezegen Mehmet’i sarayın elçisi olarak gönderdi.Gezegen Mehmet hem Ajda’yla hem Bülent Ersoy’la konuştu asrın liderimiz ikinizi de çok seviyor sulh yoluna giderseniz çok mutlu olacak dedi.Böylece iş tatlıya bağlandı.Asrın liderimiz öyle istiyorsa hay hay dediler.Kriz çözüldü.★Aradan az bi zaman geçti.Şak…Bülent Ersoy hakkında tutuklama kararı çıktı iyi mi!Çünkü…Asrın liderimizin ricasını kırmayan Bülent Ersoy dava açmaktan vazgeçmişti ama meğer Ajda davasını geri çekmemişti.Soruşturma Bülent Ersoy’un gıyabında devam etmiş sanık olduğundan haberi olmadığı için ifade vermeye gitmemiş bu nedenle tutuklama kararı çıkmıştı polis tarafından görüldüğü yerde yakalanacaktı.★Müslüman aleminin magazin dünyası allak bullak olmuştu sayın seyirciler…★Bülent Ersoy savcıya gitti ifadesini verdi tutuklama kararı kaldırıldı tutuksuz yargılanmaya başlandı.Netice?Dava sonuçlandı Bülent Ersoy hakaretten suçlu bulundu.Ajda Pekkan’a 3 bin 750 lira tazminat ödemeye mahkum edildi.Bülent Ersoy’a mahkumiyetle alakalı görüşlerini sordular avukatıma söylerim öder o para benim makyaj param bile değil dedi.★Aaahh ahh.Nerde o eski ramazanlar.★İftarlarda diplomasi yapılırdı.Mesela 2006 yılıydı.Almanya başbakanı Merkel onuruna İstanbul’da 1.500 kişilik iftar verilmişti.Asrın liderimizle birlikte iftar salonuna girerlerken Mozart’ın Türk Marşı çalmıştı bilahare ezan okunmuş iftardan sonra AB marşı olan Beethoven’ın 9’uncu senfonisiyle uğurlanmışlardı.★Chopin’in cenaze marşını dinimize aykırı bulan arkadaşlar iftar sofrasında ezanla beraber Mozart ve Beethoven çalınmasını dinimize uygun bulmuşlardı!★Bir defasında gene ramazan ayıydı Gazze’de kan gövdeyi götürüyordu İsrail bombalıyor çocuklar katlediliyordu.Filistin devlet başkanı Mahmud Abbas yardım istemek için Türkiye’ye gelmişti.Adamcağızı apar topar kolundan tutup asrın liderimizin iftarına götürdüler.Altı bin davetlinin katıldığı mütevazı (!) iftarda Bülent Ersoy’la Metin Şentürk’le birlikte poz verdirdiler.Cengiz Kurtoğlu Orhan Gencebay Berdan Mardini Alişan Ece Erken Işın Karaca Mustafa Sandal Yavuz Bingöl’le iftar sofrasına oturttular.Zerrin Özer İzzet Yıldızhan Soner Sarıkabadayı Sinan Özen’le hatıra fotoğrafı çektirdiler.Ramazan ayında Gazze’de ölü sayısı iki bini geçmişken kahkahalar eşliğinde selfieler çektirdiler.Adamcağız doğma büyüme Filistinli… İsrail’den bu kadar zulüm görmemişti!★Hülya Avşar üç bin kişiye iftar verirdi.İbrahim Tatlıses beş bin kişiye iftar verirdi.Mahsun Kırmızıgül Gülben Ergen Alişan Yıldız Tilbe Hande Ataizi Orhan Gencebay Demet Akalın Akp çadırlarında iftar vermek için birbirleriyle yarışırlardı.Akp’li belediyenin o akşamki iftar faturasını ödeyen dinibütün sanatçılarımız ana haber bültenlerinin canlı yayın kameraları eşliğinde huşu içinde Kuran’ı Kerim dinler ezanın okunmasıyla birlikte hurmayla orucunu açar kendi elleriyle çorba dağıtırdı.İftar çadırlarının etrafına tankerle gülsuyu püskürtürlerdi.★Hatta Akp’li belediyeler iftar rekoru kırıp Guinness Rekorlar Kitabı’na girmek için birbirleriyle yarışırlardı.Trafiği kesip caddelere masalar kurarlardı 60 bin kişiyle iftar açtık 70 bin kişiyle iftar açtık diye haberler yaptırırlardı.Gerçi o rekorlar kitabına adını veren Guinness aslında bira markasıdır ama olsun ramazan iftarına şahit olarak bira’yı göstermek yakışsa yakışsa Akp iktidarına yakışırdı.★Aaahh ahh.Nerde o eski Akp ramazanları şimdi?★Virüs geldi.Şov sona erdi.★Her şerde hayır vardır misali…Salgın sayesinde ramazanlarımız çok şükür özüne döndü gari! Kaynak Yeniçağ: Yılmaz Özdil yazdı: Şahit olarak birayı göstermek AKP iktidarına yakışırdı\")"
   ]
  },
  {
   "cell_type": "markdown",
   "metadata": {},
   "source": [
    "###### This one talks responds a claim from the AKP. Claim is that, some mosques have been converted to barns/stables when CHP was in power, however according to evidence provided by the column writer this is not the case."
   ]
  },
  {
   "cell_type": "code",
   "execution_count": 50,
   "metadata": {
    "colab": {
     "base_uri": "https://localhost:8080/",
     "height": 34
    },
    "colab_type": "code",
    "id": "QNqjRYiJrdg8",
    "outputId": "c7bf2608-f704-4eb7-8f1a-0e308a838b40"
   },
   "outputs": [
    {
     "data": {
      "text/plain": [
       "array([[0.23875743, 0.7612425 ]], dtype=float32)"
      ]
     },
     "execution_count": 50,
     "metadata": {
      "tags": []
     },
     "output_type": "execute_result"
    }
   ],
   "source": [
    "prediction(\"2012 yılıydı. Asrın liderimiz Tbmm'de kürsüye çıktı. 20 Nisan 1936 tarihli Cumhuriyet gazetesinden bir haber kupürü gösterdi. “Bak belge konuşuyor, Chp iktidarında camiyi ahır yaptılar” diye bağırdı, Akp milletvekilleri tarafından ayakta alkışlandı. ★ Kupürün sadece başlığını göstermişti. Haberi okumamıştı. ★ Kameralara sallaya sallaya gösterdiği kupürün başlığında “bu ne insafsızlık, Seferihisar'da tarihi cami ahır yapılmış” yazıyordu. ★ Peki, haberin içinde ne yazıyordu? Aynen şunlar yazıyordu… “Seferihisar'ın Hereke köyünde bir cami tahrip edilmiş ve ahır haline getirilmiştir. Müze müdürü tahkikat yapmıştır. Verdiği malumata göre, kütüphane ve medresesi vardır. Kütüphanesinden eser kalmamıştır. Evren oğullarından Kasım tarafından inşa ettirilmiştir. Üstündeki Arapça yazıya göre, 641 yıllık olduğu anlaşılmıştır. Osmanlı-Türk stilindedir. Tahribata rağmen, geriye kalan kısmı muhafaza edilirse, kıymettir.” ★ Yani? Caminin ahır haline getirilmesiyle Chp döneminin, Atatürk'ün filan alakası yoktu. Camiyi ahır haline getiren, işgal sırasında yaşanan Yunan vandallığıydı. İşgal yıllarında bölgede hiç Türk kalmamıştı. Türklerin yokluğunda bu caminin ahır haline getirildiğini tespit eden, haberdeki bilgileri Cumhuriyet gazetesine veren, İzmir Müze Müdürü'ydü. ★ Ortada cami falan yoktu, metruk haldeydi, minaresi yoktu. Sadece antik ören yerlerinden araklanarak monte edilmiş sütun duvarı ayakta duruyordu. Bölgede arkeolojik sayım yapan İzmir Müze Müdürü, söz konusu antik sütun sayesinde caminin kalıntılarını fark etmişti. ★ Bölge antik bölge olduğu için, müze müdürü tarafından tespit yapılmıştı. Cami ibadete açık olsaydı, teee 1924'te kurulan Diyanet İşleri Başkanlığı tarafından tespit edilirdi. Diyanet'in orada cami olduğundan bile haberi yoktu. Çünkü yıllardır cami olarak kullanılmıyordu. ★ Üstelik… “1936'da Mustafa Kemal döneminde ahır yapıldı” denilen cami, tam tersine, müze müdürünün tespiti üzerine, 1936'da Mustafa Kemal döneminde cami haline getirilmişti! ★ Kasım Çelebi Camisi. Müze müdürü tarafından metruk halde bulunmuş, revakları temizlenmiş, minaresi onarılmış, ibadete açılmıştı. ★ (O caminin bulunduğu köyün bugünkü ismi, Düzce… Küçücük, şirin bir köydür. Eski ismi Hereke'ydi. Heraklia antik kentinin üzerine rivayet edilir, ismi oradan gelirdi. Osmanlı döneminde nüfusunun yüzde 70'i Rum'du. İşgal sırasında hiç Türk kalmadı. 9 Eylül 1922'de Yunan denize döküldü, Seferihisar kurtuldu, ufak ufak göç ettik, yeniden yerleştik. Yanmış, yıkılmış, harabeydi. 60'lı yıllarda ismi Düzce diye değiştirildi. SİT alanıdır.) ★ Bunları nereden biliyorsun derseniz… İzmir çocuğuyum. Demokrat Parti döneminden beri papağan gibi tekrarlanan “camiyi ahır yaptılar” palavrası, kanıma dokunuyordu. Hem bölgeyi, hem Cumhuriyet gazetesi arşivini araştırdım. Külliyen iftira olduğunu kanıtladım. Mustafa Kemal'in camiyi ahır yaptığını söylemek, hakikaten insafsızlıktı. ★ O zamanlar Aydın Doğan'ın Hürriyet gazetesinde çalışıyordum. Gerçeğin böyle olduğunu oturdum yazdım. Benim yazım üzerine, istisnasız bütün gazeteler televizyonlar Seferihisar'a üşüştü. Yandaş medya zihniyet olarak öylesine zehirlenmişti ki, Atatürk'ün camiyi ahır yaptığına hiç tereddütsüz inanıyorlardı. Düzce köyü sakinleriyle konuştular. Camiyi gördüler. İbadete açık olduğunu gördüler. Yazdıklarım elbette doğruydu. Tırıs tırıs geri döndüler. Utanmaz oldukları için, cami gerçeğinden tek kelime haber yapmadılar! ★ Benim için hakikaten enteresan bir süreçti. Meslekteki anlı şanlı ağabeylerimiz bile telefon edip “yazdıkların doğru mu?” diye sorma gafletinde bulunuyordu. Asrın liderimiz söyledi ya, hiç sorgulamadan inanıyorlardı! ★ Halbuki… Ortalama zekaya sahip herkes, kendine şu soruyu sorabilirdi. Madem böyle bir iş yapacaksın, taaa İzmir'e gidip, taaa ilçesine gidip, taaa köyüne gidip, oradaki camiyi mi ahır yaparsın? Toplumun dini duygularını aşağılamak için böyle bir saçmalık yapacaksan, herkesin görebileceği yerde yapmaz mısın? Niye, kimsenin nerede olduğunu bile bilmediği bir camide yapasın? ★ Ve, o günkü yazıma bir not daha ilave etmiştim…\")"
   ]
  },
  {
   "cell_type": "markdown",
   "metadata": {},
   "source": [
    "##### the economy is bad, the akp doesn't know what they are doing, people are hungry, and unemployment rate is too high"
   ]
  },
  {
   "cell_type": "code",
   "execution_count": 70,
   "metadata": {
    "colab": {
     "base_uri": "https://localhost:8080/",
     "height": 34
    },
    "colab_type": "code",
    "id": "mNFy0y1dvesf",
    "outputId": "a54bf99c-9758-4100-ac5e-ff0c90a88c1b"
   },
   "outputs": [
    {
     "data": {
      "text/plain": [
       "array([[0.2924178 , 0.70758224]], dtype=float32)"
      ]
     },
     "execution_count": 70,
     "metadata": {
      "tags": []
     },
     "output_type": "execute_result"
    }
   ],
   "source": [
    "prediction(\"ekonominin durum kötü, akp ne yaptığını bilmiyor, insanlar aç, ve işsizlik çok fazla\")"
   ]
  }
 ],
 "metadata": {
  "colab": {
   "collapsed_sections": [],
   "name": "Copy_of_Yeni_lstm.ipynb",
   "provenance": []
  },
  "kernelspec": {
   "display_name": "Python 3",
   "language": "python",
   "name": "python3"
  },
  "language_info": {
   "codemirror_mode": {
    "name": "ipython",
    "version": 3
   },
   "file_extension": ".py",
   "mimetype": "text/x-python",
   "name": "python",
   "nbconvert_exporter": "python",
   "pygments_lexer": "ipython3",
   "version": "3.7.4"
  },
  "widgets": {
   "application/vnd.jupyter.widget-state+json": {
    "098ed9dea91343399e5ba7b88a636269": {
     "model_module": "@jupyter-widgets/base",
     "model_name": "LayoutModel",
     "state": {
      "_model_module": "@jupyter-widgets/base",
      "_model_module_version": "1.2.0",
      "_model_name": "LayoutModel",
      "_view_count": null,
      "_view_module": "@jupyter-widgets/base",
      "_view_module_version": "1.2.0",
      "_view_name": "LayoutView",
      "align_content": null,
      "align_items": null,
      "align_self": null,
      "border": null,
      "bottom": null,
      "display": null,
      "flex": null,
      "flex_flow": null,
      "grid_area": null,
      "grid_auto_columns": null,
      "grid_auto_flow": null,
      "grid_auto_rows": null,
      "grid_column": null,
      "grid_gap": null,
      "grid_row": null,
      "grid_template_areas": null,
      "grid_template_columns": null,
      "grid_template_rows": null,
      "height": null,
      "justify_content": null,
      "justify_items": null,
      "left": null,
      "margin": null,
      "max_height": null,
      "max_width": null,
      "min_height": null,
      "min_width": null,
      "object_fit": null,
      "object_position": null,
      "order": null,
      "overflow": null,
      "overflow_x": null,
      "overflow_y": null,
      "padding": null,
      "right": null,
      "top": null,
      "visibility": null,
      "width": null
     }
    },
    "26d15eb467154a17b4c9766cbeebbe9e": {
     "model_module": "@jupyter-widgets/controls",
     "model_name": "HTMLModel",
     "state": {
      "_dom_classes": [],
      "_model_module": "@jupyter-widgets/controls",
      "_model_module_version": "1.5.0",
      "_model_name": "HTMLModel",
      "_view_count": null,
      "_view_module": "@jupyter-widgets/controls",
      "_view_module_version": "1.5.0",
      "_view_name": "HTMLView",
      "description": "",
      "description_tooltip": null,
      "layout": "IPY_MODEL_098ed9dea91343399e5ba7b88a636269",
      "placeholder": "​",
      "style": "IPY_MODEL_c8bb842805df45bfaa5603de0c466980",
      "value": " 1.23M/1.23M [00:01&lt;00:00, 676kB/s]"
     }
    },
    "35a0be200c994a52a1fe13cc85ca889e": {
     "model_module": "@jupyter-widgets/controls",
     "model_name": "HTMLModel",
     "state": {
      "_dom_classes": [],
      "_model_module": "@jupyter-widgets/controls",
      "_model_module_version": "1.5.0",
      "_model_name": "HTMLModel",
      "_view_count": null,
      "_view_module": "@jupyter-widgets/controls",
      "_view_module_version": "1.5.0",
      "_view_name": "HTMLView",
      "description": "",
      "description_tooltip": null,
      "layout": "IPY_MODEL_f16a980cca6e4fd491c7a9f28d386f62",
      "placeholder": "​",
      "style": "IPY_MODEL_f2ebd5a9672c41f3b752d4bf69230b23",
      "value": " 59.0/59.0 [00:00&lt;00:00, 380B/s]"
     }
    },
    "46ea4fbdb9fd40a4a022b70b219398f1": {
     "model_module": "@jupyter-widgets/base",
     "model_name": "LayoutModel",
     "state": {
      "_model_module": "@jupyter-widgets/base",
      "_model_module_version": "1.2.0",
      "_model_name": "LayoutModel",
      "_view_count": null,
      "_view_module": "@jupyter-widgets/base",
      "_view_module_version": "1.2.0",
      "_view_name": "LayoutView",
      "align_content": null,
      "align_items": null,
      "align_self": null,
      "border": null,
      "bottom": null,
      "display": null,
      "flex": null,
      "flex_flow": null,
      "grid_area": null,
      "grid_auto_columns": null,
      "grid_auto_flow": null,
      "grid_auto_rows": null,
      "grid_column": null,
      "grid_gap": null,
      "grid_row": null,
      "grid_template_areas": null,
      "grid_template_columns": null,
      "grid_template_rows": null,
      "height": null,
      "justify_content": null,
      "justify_items": null,
      "left": null,
      "margin": null,
      "max_height": null,
      "max_width": null,
      "min_height": null,
      "min_width": null,
      "object_fit": null,
      "object_position": null,
      "order": null,
      "overflow": null,
      "overflow_x": null,
      "overflow_y": null,
      "padding": null,
      "right": null,
      "top": null,
      "visibility": null,
      "width": null
     }
    },
    "5d6d4bc919164a78a8226f5ef4edb9b2": {
     "model_module": "@jupyter-widgets/controls",
     "model_name": "FloatProgressModel",
     "state": {
      "_dom_classes": [],
      "_model_module": "@jupyter-widgets/controls",
      "_model_module_version": "1.5.0",
      "_model_name": "FloatProgressModel",
      "_view_count": null,
      "_view_module": "@jupyter-widgets/controls",
      "_view_module_version": "1.5.0",
      "_view_name": "ProgressView",
      "bar_style": "success",
      "description": "Downloading: 100%",
      "description_tooltip": null,
      "layout": "IPY_MODEL_bc8d3ca1753848c3bda6c63bfd9ae923",
      "max": 59,
      "min": 0,
      "orientation": "horizontal",
      "style": "IPY_MODEL_74b3a9ffa8884c6a954c33b55c19345c",
      "value": 59
     }
    },
    "614228f6190145c4abcf9d664384ef58": {
     "model_module": "@jupyter-widgets/controls",
     "model_name": "HBoxModel",
     "state": {
      "_dom_classes": [],
      "_model_module": "@jupyter-widgets/controls",
      "_model_module_version": "1.5.0",
      "_model_name": "HBoxModel",
      "_view_count": null,
      "_view_module": "@jupyter-widgets/controls",
      "_view_module_version": "1.5.0",
      "_view_name": "HBoxView",
      "box_style": "",
      "children": [
       "IPY_MODEL_5d6d4bc919164a78a8226f5ef4edb9b2",
       "IPY_MODEL_35a0be200c994a52a1fe13cc85ca889e"
      ],
      "layout": "IPY_MODEL_91ca536a87f143a89aa75ba4b5da66ff"
     }
    },
    "6a1eb5d8ec0c4549a1ad332146a24509": {
     "model_module": "@jupyter-widgets/controls",
     "model_name": "HBoxModel",
     "state": {
      "_dom_classes": [],
      "_model_module": "@jupyter-widgets/controls",
      "_model_module_version": "1.5.0",
      "_model_name": "HBoxModel",
      "_view_count": null,
      "_view_module": "@jupyter-widgets/controls",
      "_view_module_version": "1.5.0",
      "_view_name": "HBoxView",
      "box_style": "",
      "children": [
       "IPY_MODEL_a10cc5a2173644b29e60bcb0f4fcea84",
       "IPY_MODEL_26d15eb467154a17b4c9766cbeebbe9e"
      ],
      "layout": "IPY_MODEL_8c8211248195488095e73f7fcdd30776"
     }
    },
    "74b3a9ffa8884c6a954c33b55c19345c": {
     "model_module": "@jupyter-widgets/controls",
     "model_name": "ProgressStyleModel",
     "state": {
      "_model_module": "@jupyter-widgets/controls",
      "_model_module_version": "1.5.0",
      "_model_name": "ProgressStyleModel",
      "_view_count": null,
      "_view_module": "@jupyter-widgets/base",
      "_view_module_version": "1.2.0",
      "_view_name": "StyleView",
      "bar_color": null,
      "description_width": "initial"
     }
    },
    "8c8211248195488095e73f7fcdd30776": {
     "model_module": "@jupyter-widgets/base",
     "model_name": "LayoutModel",
     "state": {
      "_model_module": "@jupyter-widgets/base",
      "_model_module_version": "1.2.0",
      "_model_name": "LayoutModel",
      "_view_count": null,
      "_view_module": "@jupyter-widgets/base",
      "_view_module_version": "1.2.0",
      "_view_name": "LayoutView",
      "align_content": null,
      "align_items": null,
      "align_self": null,
      "border": null,
      "bottom": null,
      "display": null,
      "flex": null,
      "flex_flow": null,
      "grid_area": null,
      "grid_auto_columns": null,
      "grid_auto_flow": null,
      "grid_auto_rows": null,
      "grid_column": null,
      "grid_gap": null,
      "grid_row": null,
      "grid_template_areas": null,
      "grid_template_columns": null,
      "grid_template_rows": null,
      "height": null,
      "justify_content": null,
      "justify_items": null,
      "left": null,
      "margin": null,
      "max_height": null,
      "max_width": null,
      "min_height": null,
      "min_width": null,
      "object_fit": null,
      "object_position": null,
      "order": null,
      "overflow": null,
      "overflow_x": null,
      "overflow_y": null,
      "padding": null,
      "right": null,
      "top": null,
      "visibility": null,
      "width": null
     }
    },
    "91ca536a87f143a89aa75ba4b5da66ff": {
     "model_module": "@jupyter-widgets/base",
     "model_name": "LayoutModel",
     "state": {
      "_model_module": "@jupyter-widgets/base",
      "_model_module_version": "1.2.0",
      "_model_name": "LayoutModel",
      "_view_count": null,
      "_view_module": "@jupyter-widgets/base",
      "_view_module_version": "1.2.0",
      "_view_name": "LayoutView",
      "align_content": null,
      "align_items": null,
      "align_self": null,
      "border": null,
      "bottom": null,
      "display": null,
      "flex": null,
      "flex_flow": null,
      "grid_area": null,
      "grid_auto_columns": null,
      "grid_auto_flow": null,
      "grid_auto_rows": null,
      "grid_column": null,
      "grid_gap": null,
      "grid_row": null,
      "grid_template_areas": null,
      "grid_template_columns": null,
      "grid_template_rows": null,
      "height": null,
      "justify_content": null,
      "justify_items": null,
      "left": null,
      "margin": null,
      "max_height": null,
      "max_width": null,
      "min_height": null,
      "min_width": null,
      "object_fit": null,
      "object_position": null,
      "order": null,
      "overflow": null,
      "overflow_x": null,
      "overflow_y": null,
      "padding": null,
      "right": null,
      "top": null,
      "visibility": null,
      "width": null
     }
    },
    "a10cc5a2173644b29e60bcb0f4fcea84": {
     "model_module": "@jupyter-widgets/controls",
     "model_name": "FloatProgressModel",
     "state": {
      "_dom_classes": [],
      "_model_module": "@jupyter-widgets/controls",
      "_model_module_version": "1.5.0",
      "_model_name": "FloatProgressModel",
      "_view_count": null,
      "_view_module": "@jupyter-widgets/controls",
      "_view_module_version": "1.5.0",
      "_view_name": "ProgressView",
      "bar_style": "success",
      "description": "Downloading: 100%",
      "description_tooltip": null,
      "layout": "IPY_MODEL_46ea4fbdb9fd40a4a022b70b219398f1",
      "max": 1233088,
      "min": 0,
      "orientation": "horizontal",
      "style": "IPY_MODEL_d3198b4acd01407885f0375eb35ee17e",
      "value": 1233088
     }
    },
    "bc8d3ca1753848c3bda6c63bfd9ae923": {
     "model_module": "@jupyter-widgets/base",
     "model_name": "LayoutModel",
     "state": {
      "_model_module": "@jupyter-widgets/base",
      "_model_module_version": "1.2.0",
      "_model_name": "LayoutModel",
      "_view_count": null,
      "_view_module": "@jupyter-widgets/base",
      "_view_module_version": "1.2.0",
      "_view_name": "LayoutView",
      "align_content": null,
      "align_items": null,
      "align_self": null,
      "border": null,
      "bottom": null,
      "display": null,
      "flex": null,
      "flex_flow": null,
      "grid_area": null,
      "grid_auto_columns": null,
      "grid_auto_flow": null,
      "grid_auto_rows": null,
      "grid_column": null,
      "grid_gap": null,
      "grid_row": null,
      "grid_template_areas": null,
      "grid_template_columns": null,
      "grid_template_rows": null,
      "height": null,
      "justify_content": null,
      "justify_items": null,
      "left": null,
      "margin": null,
      "max_height": null,
      "max_width": null,
      "min_height": null,
      "min_width": null,
      "object_fit": null,
      "object_position": null,
      "order": null,
      "overflow": null,
      "overflow_x": null,
      "overflow_y": null,
      "padding": null,
      "right": null,
      "top": null,
      "visibility": null,
      "width": null
     }
    },
    "c8bb842805df45bfaa5603de0c466980": {
     "model_module": "@jupyter-widgets/controls",
     "model_name": "DescriptionStyleModel",
     "state": {
      "_model_module": "@jupyter-widgets/controls",
      "_model_module_version": "1.5.0",
      "_model_name": "DescriptionStyleModel",
      "_view_count": null,
      "_view_module": "@jupyter-widgets/base",
      "_view_module_version": "1.2.0",
      "_view_name": "StyleView",
      "description_width": ""
     }
    },
    "d3198b4acd01407885f0375eb35ee17e": {
     "model_module": "@jupyter-widgets/controls",
     "model_name": "ProgressStyleModel",
     "state": {
      "_model_module": "@jupyter-widgets/controls",
      "_model_module_version": "1.5.0",
      "_model_name": "ProgressStyleModel",
      "_view_count": null,
      "_view_module": "@jupyter-widgets/base",
      "_view_module_version": "1.2.0",
      "_view_name": "StyleView",
      "bar_color": null,
      "description_width": "initial"
     }
    },
    "f16a980cca6e4fd491c7a9f28d386f62": {
     "model_module": "@jupyter-widgets/base",
     "model_name": "LayoutModel",
     "state": {
      "_model_module": "@jupyter-widgets/base",
      "_model_module_version": "1.2.0",
      "_model_name": "LayoutModel",
      "_view_count": null,
      "_view_module": "@jupyter-widgets/base",
      "_view_module_version": "1.2.0",
      "_view_name": "LayoutView",
      "align_content": null,
      "align_items": null,
      "align_self": null,
      "border": null,
      "bottom": null,
      "display": null,
      "flex": null,
      "flex_flow": null,
      "grid_area": null,
      "grid_auto_columns": null,
      "grid_auto_flow": null,
      "grid_auto_rows": null,
      "grid_column": null,
      "grid_gap": null,
      "grid_row": null,
      "grid_template_areas": null,
      "grid_template_columns": null,
      "grid_template_rows": null,
      "height": null,
      "justify_content": null,
      "justify_items": null,
      "left": null,
      "margin": null,
      "max_height": null,
      "max_width": null,
      "min_height": null,
      "min_width": null,
      "object_fit": null,
      "object_position": null,
      "order": null,
      "overflow": null,
      "overflow_x": null,
      "overflow_y": null,
      "padding": null,
      "right": null,
      "top": null,
      "visibility": null,
      "width": null
     }
    },
    "f2ebd5a9672c41f3b752d4bf69230b23": {
     "model_module": "@jupyter-widgets/controls",
     "model_name": "DescriptionStyleModel",
     "state": {
      "_model_module": "@jupyter-widgets/controls",
      "_model_module_version": "1.5.0",
      "_model_name": "DescriptionStyleModel",
      "_view_count": null,
      "_view_module": "@jupyter-widgets/base",
      "_view_module_version": "1.2.0",
      "_view_name": "StyleView",
      "description_width": ""
     }
    }
   }
  }
 },
 "nbformat": 4,
 "nbformat_minor": 1
}
